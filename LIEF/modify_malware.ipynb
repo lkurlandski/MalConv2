{
 "cells": [
  {
   "cell_type": "code",
   "execution_count": 1,
   "metadata": {
    "collapsed": true
   },
   "outputs": [],
   "source": [
    "import sys\n",
    "\n",
    "import lief\n",
    "from lief import PE"
   ]
  },
  {
   "cell_type": "code",
   "execution_count": 2,
   "outputs": [],
   "source": [
    "path = \"../outputs/5/files/0003f09b129fac317bdf19e32dca9e189045d89c23eeeb9868861ac5f8a3e211.exe\""
   ],
   "metadata": {
    "collapsed": false
   }
  },
  {
   "cell_type": "markdown",
   "source": [
    "# Parse and Manipulate Formats"
   ],
   "metadata": {
    "collapsed": false
   }
  },
  {
   "cell_type": "code",
   "execution_count": 3,
   "outputs": [
    {
     "name": "stderr",
     "output_type": "stream",
     "text": [
      "Unable to find the section associated with CERTIFICATE_TABLE\n"
     ]
    }
   ],
   "source": [
    "binary = lief.parse(path)"
   ],
   "metadata": {
    "collapsed": false
   }
  },
  {
   "cell_type": "code",
   "execution_count": 4,
   "outputs": [
    {
     "name": "stdout",
     "output_type": "stream",
     "text": [
      "Magic:                        5a4d\n",
      "Used Bytes In The LastPage:   90\n",
      "File Size In Pages:           3\n",
      "Number Of Relocation:         0\n",
      "Header Size In Paragraphs:    4\n",
      "Minimum Extra Paragraphs:     0\n",
      "Maximum Extra Paragraphs:     ffff\n",
      "Initial Relative SS:          0\n",
      "Initial SP:                   b8\n",
      "Checksum:                     0\n",
      "Initial IP:                   0\n",
      "Initial Relative CS:          0\n",
      "Address Of Relocation Table:  40\n",
      "Overlay Number:               0\n",
      "OEM id:                       0\n",
      "OEM info:                     0\n",
      "Address Of New Exe Header:    c8\n",
      "\n",
      "--------------------------------\n",
      "Signature:                    50 45 0 0 \n",
      "Machine:                      UNKNOWN\n",
      "Number Of Sections:           5\n",
      "Pointer To Symbol Table:      0\n",
      "Number Of Symbols:            0\n",
      "Size Of Optional Header:      e0\n",
      "Characteristics:              RELOCS_STRIPPED - EXECUTABLE_IMAGE - LINE_NUMS_STRIPPED - LOCAL_SYMS_STRIPPED - CHARA_32BIT_MACHINE\n",
      "Time Date Stamp:              57956397\n",
      "\n",
      "--------------------------------\n",
      "Magic:                           10b\n",
      "Major Linker Version:            6\n",
      "Minor Linker Version:            0\n",
      "Size Of Code:                    6200\n",
      "Size Of Initialized Data:        22a00\n",
      "Size Of Uninitialized Data:      800\n",
      "Address Of Entry Point:          33b6\n",
      "Base Of Code:                    1000\n",
      "Base Of Data:                    8000\n",
      "Image Base:                      400000\n",
      "Section Alignment:               1000\n",
      "File Alignment:                  200\n",
      "Major Operating System Version:  4\n",
      "Minor Operating System Version:  0\n",
      "Major Image Version:             6\n",
      "Minor Image Version:             0\n",
      "Major Subsystem Version:         4\n",
      "Minor Subsystem Version:         0\n",
      "Win32 Version Value:             0\n",
      "Size Of Image:                   60000\n",
      "Size Of Headers:                 400\n",
      "CheckSum:                        18f423\n",
      "Subsystem:                       UNKNOWN\n",
      "DLL Characteristics:             \n",
      "- DYNAMIC_BASE\n",
      "- NX_COMPAT\n",
      "- NO_SEH\n",
      "- TERMINAL_SERVER_AWARE\n",
      "Size Of Stack Reserve:           100000\n",
      "Size Of Stack Commit:            1000\n",
      "Size Of Heap Reserve:            100000\n",
      "Size Of Heap Commit:             1000\n",
      "Loader Flags:                    0\n",
      "Number Of RVA And Size:          10\n",
      "\n"
     ]
    }
   ],
   "source": [
    "print(binary.dos_header)\n",
    "print(\"-\" * 32)\n",
    "print(binary.header)\n",
    "print(\"-\" * 32)\n",
    "print(binary.optional_header)"
   ],
   "metadata": {
    "collapsed": false
   }
  },
  {
   "cell_type": "code",
   "execution_count": 5,
   "outputs": [
    {
     "name": "stdout",
     "output_type": "stream",
     "text": [
      ".text     615d      1000      6200      400       0         6.47403   CNT_CODE - MEM_EXECUTE - MEM_READ\n"
     ]
    }
   ],
   "source": [
    "print(binary.get_section(\".text\"))"
   ],
   "metadata": {
    "collapsed": false
   }
  },
  {
   "cell_type": "code",
   "execution_count": 6,
   "outputs": [
    {
     "name": "stdout",
     "output_type": "stream",
     "text": [
      "SetCurrentDirectoryW - 0x8070\n",
      "GetFileAttributesW - 0x8074\n",
      "GetFullPathNameW - 0x8078\n",
      "Sleep - 0x807c\n",
      "GetTickCount - 0x8080\n",
      "CreateFileW - 0x8084\n",
      "GetFileSize - 0x8088\n",
      "MoveFileW - 0x808c\n",
      "SetFileAttributesW - 0x8090\n",
      "GetModuleFileNameW - 0x8094\n",
      "CopyFileW - 0x8098\n",
      "ExitProcess - 0x809c\n",
      "SetEnvironmentVar... - 0x80a0\n",
      "GetWindowsDirectoryW - 0x80a4\n",
      "GetTempPathW - 0x80a8\n",
      "GetCommandLineW - 0x80ac\n",
      "GetVersion - 0x80b0\n",
      "SetErrorMode - 0x80b4\n",
      "WaitForSingleObject - 0x80b8\n",
      "GetCurrentProcess - 0x80bc\n",
      "CompareFileTime - 0x80c0\n",
      "GlobalUnlock - 0x80c4\n",
      "GlobalLock - 0x80c8\n",
      "CreateThread - 0x80cc\n",
      "GetLastError - 0x80d0\n",
      "CreateDirectoryW - 0x80d4\n",
      "CreateProcessW - 0x80d8\n",
      "RemoveDirectoryW - 0x80dc\n",
      "lstrcmpiA - 0x80e0\n",
      "GetTempFileNameW - 0x80e4\n",
      "WriteFile - 0x80e8\n",
      "lstrcpyA - 0x80ec\n",
      "lstrcpyW - 0x80f0\n",
      "MoveFileExW - 0x80f4\n",
      "lstrcatW - 0x80f8\n",
      "GetSystemDirectoryW - 0x80fc\n",
      "GetProcAddress - 0x8100\n",
      "GetModuleHandleA - 0x8104\n",
      "GlobalFree - 0x8108\n",
      "GlobalAlloc - 0x810c\n",
      "GetShortPathNameW - 0x8110\n",
      "SearchPathW - 0x8114\n",
      "lstrcmpiW - 0x8118\n",
      "SetFileTime - 0x811c\n",
      "CloseHandle - 0x8120\n",
      "ExpandEnvironment... - 0x8124\n",
      "lstrcmpW - 0x8128\n",
      "GetDiskFreeSpaceW - 0x812c\n",
      "lstrlenW - 0x8130\n",
      "lstrcpynW - 0x8134\n",
      "GetExitCodeProcess - 0x8138\n",
      "FindFirstFileW - 0x813c\n",
      "FindNextFileW - 0x8140\n",
      "DeleteFileW - 0x8144\n",
      "SetFilePointer - 0x8148\n",
      "ReadFile - 0x814c\n",
      "FindClose - 0x8150\n",
      "MulDiv - 0x8154\n",
      "MultiByteToWideChar - 0x8158\n",
      "lstrlenA - 0x815c\n",
      "WideCharToMultiByte - 0x8160\n",
      "GetPrivateProfile... - 0x8164\n",
      "WritePrivateProfi... - 0x8168\n",
      "FreeLibrary - 0x816c\n",
      "LoadLibraryExW - 0x8170\n",
      "GetModuleHandleW - 0x8174\n",
      "GetSystemMenu - 0x8198\n",
      "SetClassLongW - 0x819c\n",
      "IsWindowEnabled - 0x81a0\n",
      "EnableMenuItem - 0x81a4\n",
      "SetWindowPos - 0x81a8\n",
      "GetSysColor - 0x81ac\n",
      "GetWindowLongW - 0x81b0\n",
      "SetCursor - 0x81b4\n",
      "LoadCursorW - 0x81b8\n",
      "CheckDlgButton - 0x81bc\n",
      "GetMessagePos - 0x81c0\n",
      "LoadBitmapW - 0x81c4\n",
      "CallWindowProcW - 0x81c8\n",
      "IsWindowVisible - 0x81cc\n",
      "CloseClipboard - 0x81d0\n",
      "SetClipboardData - 0x81d4\n",
      "EmptyClipboard - 0x81d8\n",
      "OpenClipboard - 0x81dc\n",
      "wsprintfW - 0x81e0\n",
      "ScreenToClient - 0x81e4\n",
      "GetWindowRect - 0x81e8\n",
      "GetSystemMetrics - 0x81ec\n",
      "SetDlgItemTextW - 0x81f0\n",
      "GetDlgItemTextW - 0x81f4\n",
      "MessageBoxIndirectW - 0x81f8\n",
      "CharPrevW - 0x81fc\n",
      "CharNextA - 0x8200\n",
      "wsprintfA - 0x8204\n",
      "DispatchMessageW - 0x8208\n",
      "PeekMessageW - 0x820c\n",
      "GetDC - 0x8210\n",
      "ReleaseDC - 0x8214\n",
      "EnableWindow - 0x8218\n",
      "InvalidateRect - 0x821c\n",
      "SendMessageW - 0x8220\n",
      "DefWindowProcW - 0x8224\n",
      "BeginPaint - 0x8228\n",
      "GetClientRect - 0x822c\n",
      "FillRect - 0x8230\n",
      "EndDialog - 0x8234\n",
      "RegisterClassW - 0x8238\n",
      "SystemParametersI... - 0x823c\n",
      "CreateWindowExW - 0x8240\n",
      "GetClassInfoW - 0x8244\n",
      "DialogBoxParamW - 0x8248\n",
      "CharNextW - 0x824c\n",
      "ExitWindowsEx - 0x8250\n",
      "DestroyWindow - 0x8254\n",
      "LoadImageW - 0x8258\n",
      "SetTimer - 0x825c\n",
      "SetWindowTextW - 0x8260\n",
      "PostQuitMessage - 0x8264\n",
      "ShowWindow - 0x8268\n",
      "GetDlgItem - 0x826c\n",
      "IsWindow - 0x8270\n",
      "SetWindowLongW - 0x8274\n",
      "FindWindowExW - 0x8278\n",
      "TrackPopupMenu - 0x827c\n",
      "AppendMenuW - 0x8280\n",
      "CreatePopupMenu - 0x8284\n",
      "DrawTextW - 0x8288\n",
      "EndPaint - 0x828c\n",
      "CreateDialogParamW - 0x8290\n",
      "SendMessageTimeoutW - 0x8294\n",
      "SetForegroundWindow - 0x8298\n",
      "SelectObject - 0x804c\n",
      "SetBkMode - 0x8050\n",
      "CreateFontIndirectW - 0x8054\n",
      "SetTextColor - 0x8058\n",
      "DeleteObject - 0x805c\n",
      "GetDeviceCaps - 0x8060\n",
      "CreateBrushIndirect - 0x8064\n",
      "SetBkColor - 0x8068\n",
      "SHGetSpecialFolde... - 0x817c\n",
      "SHGetPathFromIDListW - 0x8180\n",
      "SHBrowseForFolderW - 0x8184\n",
      "SHGetFileInfoW - 0x8188\n",
      "ShellExecuteW - 0x818c\n",
      "SHFileOperationW - 0x8190\n",
      "RegDeleteKeyW - 0x8000\n",
      "SetFileSecurityW - 0x8004\n",
      "OpenProcessToken - 0x8008\n",
      "LookupPrivilegeVa... - 0x800c\n",
      "AdjustTokenPrivil... - 0x8010\n",
      "RegOpenKeyExW - 0x8014\n",
      "RegEnumValueW - 0x8018\n",
      "RegDeleteValueW - 0x801c\n",
      "RegCloseKey - 0x8020\n",
      "RegCreateKeyExW - 0x8024\n",
      "RegSetValueExW - 0x8028\n",
      "RegQueryValueExW - 0x802c\n",
      "RegEnumKeyW - 0x8030\n",
      "ImageList_AddMasked - 0x8038\n",
      "InitCommonControls - 0x803c\n",
      "ImageList_Destroy - 0x8040\n",
      "ImageList_Create - 0x8044\n",
      "OleUninitialize - 0x82a0\n",
      "OleInitialize - 0x82a4\n",
      "CoTaskMemFree - 0x82a8\n",
      "CoCreateInstance - 0x82ac\n"
     ]
    }
   ],
   "source": [
    "for func in binary.imported_functions:\n",
    "  print(func)"
   ],
   "metadata": {
    "collapsed": false
   }
  },
  {
   "cell_type": "code",
   "execution_count": 7,
   "outputs": [
    {
     "name": "stdout",
     "output_type": "stream",
     "text": [
      "Library name: KERNEL32.dll\n",
      "SetCurrentDirectoryW\n",
      "32880\n",
      "GetFileAttributesW\n",
      "32884\n",
      "GetFullPathNameW\n",
      "32888\n",
      "Sleep\n",
      "32892\n",
      "GetTickCount\n",
      "32896\n",
      "CreateFileW\n",
      "32900\n",
      "GetFileSize\n",
      "32904\n",
      "MoveFileW\n",
      "32908\n",
      "SetFileAttributesW\n",
      "32912\n",
      "GetModuleFileNameW\n",
      "32916\n",
      "CopyFileW\n",
      "32920\n",
      "ExitProcess\n",
      "32924\n",
      "SetEnvironmentVariableW\n",
      "32928\n",
      "GetWindowsDirectoryW\n",
      "32932\n",
      "GetTempPathW\n",
      "32936\n",
      "GetCommandLineW\n",
      "32940\n",
      "GetVersion\n",
      "32944\n",
      "SetErrorMode\n",
      "32948\n",
      "WaitForSingleObject\n",
      "32952\n",
      "GetCurrentProcess\n",
      "32956\n",
      "CompareFileTime\n",
      "32960\n",
      "GlobalUnlock\n",
      "32964\n",
      "GlobalLock\n",
      "32968\n",
      "CreateThread\n",
      "32972\n",
      "GetLastError\n",
      "32976\n",
      "CreateDirectoryW\n",
      "32980\n",
      "CreateProcessW\n",
      "32984\n",
      "RemoveDirectoryW\n",
      "32988\n",
      "lstrcmpiA\n",
      "32992\n",
      "GetTempFileNameW\n",
      "32996\n",
      "WriteFile\n",
      "33000\n",
      "lstrcpyA\n",
      "33004\n",
      "lstrcpyW\n",
      "33008\n",
      "MoveFileExW\n",
      "33012\n",
      "lstrcatW\n",
      "33016\n",
      "GetSystemDirectoryW\n",
      "33020\n",
      "GetProcAddress\n",
      "33024\n",
      "GetModuleHandleA\n",
      "33028\n",
      "GlobalFree\n",
      "33032\n",
      "GlobalAlloc\n",
      "33036\n",
      "GetShortPathNameW\n",
      "33040\n",
      "SearchPathW\n",
      "33044\n",
      "lstrcmpiW\n",
      "33048\n",
      "SetFileTime\n",
      "33052\n",
      "CloseHandle\n",
      "33056\n",
      "ExpandEnvironmentStringsW\n",
      "33060\n",
      "lstrcmpW\n",
      "33064\n",
      "GetDiskFreeSpaceW\n",
      "33068\n",
      "lstrlenW\n",
      "33072\n",
      "lstrcpynW\n",
      "33076\n",
      "GetExitCodeProcess\n",
      "33080\n",
      "FindFirstFileW\n",
      "33084\n",
      "FindNextFileW\n",
      "33088\n",
      "DeleteFileW\n",
      "33092\n",
      "SetFilePointer\n",
      "33096\n",
      "ReadFile\n",
      "33100\n",
      "FindClose\n",
      "33104\n",
      "MulDiv\n",
      "33108\n",
      "MultiByteToWideChar\n",
      "33112\n",
      "lstrlenA\n",
      "33116\n",
      "WideCharToMultiByte\n",
      "33120\n",
      "GetPrivateProfileStringW\n",
      "33124\n",
      "WritePrivateProfileStringW\n",
      "33128\n",
      "FreeLibrary\n",
      "33132\n",
      "LoadLibraryExW\n",
      "33136\n",
      "GetModuleHandleW\n",
      "33140\n",
      "Library name: USER32.dll\n",
      "GetSystemMenu\n",
      "33176\n",
      "SetClassLongW\n",
      "33180\n",
      "IsWindowEnabled\n",
      "33184\n",
      "EnableMenuItem\n",
      "33188\n",
      "SetWindowPos\n",
      "33192\n",
      "GetSysColor\n",
      "33196\n",
      "GetWindowLongW\n",
      "33200\n",
      "SetCursor\n",
      "33204\n",
      "LoadCursorW\n",
      "33208\n",
      "CheckDlgButton\n",
      "33212\n",
      "GetMessagePos\n",
      "33216\n",
      "LoadBitmapW\n",
      "33220\n",
      "CallWindowProcW\n",
      "33224\n",
      "IsWindowVisible\n",
      "33228\n",
      "CloseClipboard\n",
      "33232\n",
      "SetClipboardData\n",
      "33236\n",
      "EmptyClipboard\n",
      "33240\n",
      "OpenClipboard\n",
      "33244\n",
      "wsprintfW\n",
      "33248\n",
      "ScreenToClient\n",
      "33252\n",
      "GetWindowRect\n",
      "33256\n",
      "GetSystemMetrics\n",
      "33260\n",
      "SetDlgItemTextW\n",
      "33264\n",
      "GetDlgItemTextW\n",
      "33268\n",
      "MessageBoxIndirectW\n",
      "33272\n",
      "CharPrevW\n",
      "33276\n",
      "CharNextA\n",
      "33280\n",
      "wsprintfA\n",
      "33284\n",
      "DispatchMessageW\n",
      "33288\n",
      "PeekMessageW\n",
      "33292\n",
      "GetDC\n",
      "33296\n",
      "ReleaseDC\n",
      "33300\n",
      "EnableWindow\n",
      "33304\n",
      "InvalidateRect\n",
      "33308\n",
      "SendMessageW\n",
      "33312\n",
      "DefWindowProcW\n",
      "33316\n",
      "BeginPaint\n",
      "33320\n",
      "GetClientRect\n",
      "33324\n",
      "FillRect\n",
      "33328\n",
      "EndDialog\n",
      "33332\n",
      "RegisterClassW\n",
      "33336\n",
      "SystemParametersInfoW\n",
      "33340\n",
      "CreateWindowExW\n",
      "33344\n",
      "GetClassInfoW\n",
      "33348\n",
      "DialogBoxParamW\n",
      "33352\n",
      "CharNextW\n",
      "33356\n",
      "ExitWindowsEx\n",
      "33360\n",
      "DestroyWindow\n",
      "33364\n",
      "LoadImageW\n",
      "33368\n",
      "SetTimer\n",
      "33372\n",
      "SetWindowTextW\n",
      "33376\n",
      "PostQuitMessage\n",
      "33380\n",
      "ShowWindow\n",
      "33384\n",
      "GetDlgItem\n",
      "33388\n",
      "IsWindow\n",
      "33392\n",
      "SetWindowLongW\n",
      "33396\n",
      "FindWindowExW\n",
      "33400\n",
      "TrackPopupMenu\n",
      "33404\n",
      "AppendMenuW\n",
      "33408\n",
      "CreatePopupMenu\n",
      "33412\n",
      "DrawTextW\n",
      "33416\n",
      "EndPaint\n",
      "33420\n",
      "CreateDialogParamW\n",
      "33424\n",
      "SendMessageTimeoutW\n",
      "33428\n",
      "SetForegroundWindow\n",
      "33432\n",
      "Library name: GDI32.dll\n",
      "SelectObject\n",
      "32844\n",
      "SetBkMode\n",
      "32848\n",
      "CreateFontIndirectW\n",
      "32852\n",
      "SetTextColor\n",
      "32856\n",
      "DeleteObject\n",
      "32860\n",
      "GetDeviceCaps\n",
      "32864\n",
      "CreateBrushIndirect\n",
      "32868\n",
      "SetBkColor\n",
      "32872\n",
      "Library name: SHELL32.dll\n",
      "SHGetSpecialFolderLocation\n",
      "33148\n",
      "SHGetPathFromIDListW\n",
      "33152\n",
      "SHBrowseForFolderW\n",
      "33156\n",
      "SHGetFileInfoW\n",
      "33160\n",
      "ShellExecuteW\n",
      "33164\n",
      "SHFileOperationW\n",
      "33168\n",
      "Library name: ADVAPI32.dll\n",
      "RegDeleteKeyW\n",
      "32768\n",
      "SetFileSecurityW\n",
      "32772\n",
      "OpenProcessToken\n",
      "32776\n",
      "LookupPrivilegeValueW\n",
      "32780\n",
      "AdjustTokenPrivileges\n",
      "32784\n",
      "RegOpenKeyExW\n",
      "32788\n",
      "RegEnumValueW\n",
      "32792\n",
      "RegDeleteValueW\n",
      "32796\n",
      "RegCloseKey\n",
      "32800\n",
      "RegCreateKeyExW\n",
      "32804\n",
      "RegSetValueExW\n",
      "32808\n",
      "RegQueryValueExW\n",
      "32812\n",
      "RegEnumKeyW\n",
      "32816\n",
      "Library name: COMCTL32.dll\n",
      "ImageList_AddMasked\n",
      "32824\n",
      "32828\n",
      "ImageList_Destroy\n",
      "32832\n",
      "ImageList_Create\n",
      "32836\n",
      "Library name: ole32.dll\n",
      "OleUninitialize\n",
      "33440\n",
      "OleInitialize\n",
      "33444\n",
      "CoTaskMemFree\n",
      "33448\n",
      "CoCreateInstance\n",
      "33452\n"
     ]
    }
   ],
   "source": [
    "for imported_library in binary.imports:\n",
    "  print(\"Library name: \" + imported_library.name)\n",
    "  for func in imported_library.entries:\n",
    "    if not func.is_ordinal:\n",
    "      print(func.name)\n",
    "    print(func.iat_address)"
   ],
   "metadata": {
    "collapsed": false
   }
  },
  {
   "cell_type": "code",
   "execution_count": 8,
   "outputs": [],
   "source": [
    "builder = lief.PE.Builder(binary)\n",
    "builder.build_imports(True)\n",
    "builder.patch_imports(True)\n",
    "builder.build()\n",
    "builder.write(\"result.exe\")"
   ],
   "metadata": {
    "collapsed": false
   }
  },
  {
   "cell_type": "markdown",
   "source": [
    "# Create a PE from Scratch"
   ],
   "metadata": {
    "collapsed": false
   }
  },
  {
   "cell_type": "code",
   "execution_count": 9,
   "outputs": [],
   "source": [
    "title   = \"LIEF is awesome\\0\"\n",
    "message = \"Hello World\\0\"\n",
    "\n",
    "data =  list(map(ord, title))\n",
    "data += list(map(ord, message))\n",
    "\n",
    "code = [\n",
    "        0x6a, 0x00,                         # push 0x00 uType\n",
    "        0x68, 0x00, 0x20, 0x40, 0x00,       # push VA(title)\n",
    "        0x68, 0x10, 0x20, 0x40, 0x00,       # push VA(message)\n",
    "        0x6a, 0x00,                         # push 0 hWnd\n",
    "        0xFF, 0x15, 0x54, 0x30, 0x40, 0x00, # call MessageBoxA\n",
    "        0x6A, 0x00,                         # push 0 uExitCode\n",
    "        0xFF, 0x15, 0x4C, 0x30, 0x40, 0x00  # call ExitProcess\n",
    "        ]"
   ],
   "metadata": {
    "collapsed": false
   }
  },
  {
   "cell_type": "code",
   "execution_count": 10,
   "outputs": [],
   "source": [
    "section_text                 = PE.Section(\".text\")\n",
    "section_text.content         = code\n",
    "section_text.virtual_address = 0x1000\n",
    "\n",
    "section_data                 = PE.Section(\".data\")\n",
    "section_data.content         = data\n",
    "section_data.virtual_address = 0x2000"
   ],
   "metadata": {
    "collapsed": false
   }
  },
  {
   "cell_type": "code",
   "execution_count": 11,
   "outputs": [],
   "source": [
    "binary32 = PE.Binary(\"pe_from_scratch\", PE.PE_TYPE.PE32)"
   ],
   "metadata": {
    "collapsed": false
   }
  },
  {
   "cell_type": "code",
   "execution_count": 12,
   "outputs": [
    {
     "name": "stdout",
     "output_type": "stream",
     "text": [
      ".text     1c        1000      200       400       0         0.362359  CNT_CODE - MEM_EXECUTE - MEM_READ\n",
      ".data     1c        2000      200       600       0         0.487347  CNT_INITIALIZED_DATA - MEM_READ - MEM_WRITE\n"
     ]
    }
   ],
   "source": [
    "section_text = binary32.add_section(section_text, PE.SECTION_TYPES.TEXT)\n",
    "section_data = binary32.add_section(section_data, PE.SECTION_TYPES.DATA)\n",
    "print(section_text)\n",
    "print(section_data)"
   ],
   "metadata": {
    "collapsed": false
   }
  },
  {
   "cell_type": "code",
   "execution_count": 13,
   "outputs": [
    {
     "data": {
      "text/plain": "<lief.PE.ImportEntry at 0x7f0c34455a30>"
     },
     "execution_count": 13,
     "metadata": {},
     "output_type": "execute_result"
    }
   ],
   "source": [
    "binary32.optional_header.addressof_entrypoint = section_text.virtual_address\n",
    "\n",
    "kernel32 = binary32.add_library(\"kernel32.dll\")\n",
    "kernel32.add_entry(\"ExitProcess\")\n",
    "\n",
    "user32 = binary32.add_library(\"user32.dll\")\n",
    "user32.add_entry(\"MessageBoxA\")"
   ],
   "metadata": {
    "collapsed": false
   }
  },
  {
   "cell_type": "code",
   "execution_count": 14,
   "outputs": [
    {
     "name": "stdout",
     "output_type": "stream",
     "text": [
      "Address of 'ExitProcess': 0x00304c \n",
      "Address of 'MessageBoxA': 0x003054 \n"
     ]
    }
   ],
   "source": [
    "ExitProcess_addr = binary32.predict_function_rva(\"kernel32.dll\", \"ExitProcess\")\n",
    "MessageBoxA_addr = binary32.predict_function_rva(\"user32.dll\", \"MessageBoxA\")\n",
    "print(\"Address of 'ExitProcess': 0x{:06x} \".format(ExitProcess_addr))\n",
    "print(\"Address of 'MessageBoxA': 0x{:06x} \".format(MessageBoxA_addr))"
   ],
   "metadata": {
    "collapsed": false
   }
  },
  {
   "cell_type": "code",
   "execution_count": 15,
   "outputs": [],
   "source": [
    "builder = PE.Builder(binary32)\n",
    "builder.build_imports(True)\n",
    "builder.build()\n",
    "builder.write(\"pe_from_scratch.exe\")"
   ],
   "metadata": {
    "collapsed": false
   }
  },
  {
   "cell_type": "markdown",
   "source": [
    "# PE Hooking"
   ],
   "metadata": {
    "collapsed": false
   }
  },
  {
   "cell_type": "code",
   "execution_count": 16,
   "outputs": [],
   "source": [
    "title = \"LIEF is awesome\\0\"\n",
    "data  =  list(map(ord, title))\n",
    "code = [\n",
    "        0x48, 0x83, 0xc4, 0x48,                                     # add rsp, 0x48         ; Stack unwind\n",
    "        0x48, 0x31, 0xc9,                                           # xor rcx, rcx          ; hWnd\n",
    "        0x48, 0x89, 0xd2,                                           # mov rdx, rdx          ; Message\n",
    "        0x49, 0xb8, 0x00, 0x90, 0x00, 0x40, 0x01, 0x00, 0x00, 0x00, # mov r8,  0x0140009000 ; Title\n",
    "        0x4d, 0x31, 0xc9,                                           # xor r9, r9            ; MB_OK\n",
    "        0x48, 0xb8, 0xe4, 0xa3, 0x00, 0x40, 0x01, 0x00, 0x00, 0x00, # mov rax, 0x014000A3E4 ; MessageBoxA address\n",
    "        0xff, 0x10,                                                 # call [rax]            ; MessageBoxA(hWnd, Message, Title, MB_OK)\n",
    "        0x48, 0x31, 0xc9,                                           # xor rcx, rcx          ; exit value\n",
    "        0x48, 0xb8, 0xd4, 0xa3, 0x00, 0x40, 0x01, 0x00, 0x00, 0x00, # mov rax, 0x014000A3d4 ; ExitProcess address\n",
    "        0xff, 0x10,                                                 # call [rax]            ; ExitProcess(0)\n",
    "        0xc3,                                                       # ret                   ; Never reached\n",
    "        ]"
   ],
   "metadata": {
    "collapsed": false
   }
  },
  {
   "cell_type": "code",
   "execution_count": 17,
   "outputs": [
    {
     "name": "stdout",
     "output_type": "stream",
     "text": [
      ".htext    0         8000      0         0         0         3.76004   CNT_CODE - MEM_EXECUTE - MEM_READ\n"
     ]
    }
   ],
   "source": [
    "# Create a '.text' section which will contain the hooking code\n",
    "section_text                 = lief.PE.Section(\".htext\")\n",
    "section_text.content         = code\n",
    "section_text.virtual_address = 0x8000\n",
    "section_text.characteristics = (lief.PE.SECTION_CHARACTERISTICS.CNT_CODE | lief.PE.SECTION_CHARACTERISTICS.MEM_READ | lief.PE.SECTION_CHARACTERISTICS.MEM_EXECUTE)\n",
    "print(section_text)"
   ],
   "metadata": {
    "collapsed": false
   }
  },
  {
   "cell_type": "code",
   "execution_count": 18,
   "outputs": [
    {
     "name": "stdout",
     "output_type": "stream",
     "text": [
      ".hdata    0         9000      0         0         0         3.625     CNT_INITIALIZED_DATA - MEM_READ\n"
     ]
    }
   ],
   "source": [
    "# Create '.data' section for the string(s)\n",
    "section_data                 = lief.PE.Section(\".hdata\")\n",
    "section_data.content         = data\n",
    "section_data.virtual_address = 0x9000\n",
    "section_data.characteristics = (lief.PE.SECTION_CHARACTERISTICS.CNT_INITIALIZED_DATA | lief.PE.SECTION_CHARACTERISTICS.MEM_READ)\n",
    "print(section_data)"
   ],
   "metadata": {
    "collapsed": false
   }
  },
  {
   "cell_type": "code",
   "execution_count": 19,
   "outputs": [],
   "source": [
    "binary = lief.parse(\"PE64_x86-64_binary_HelloWorld.exe\")\n",
    "# Disable ASLR\n",
    "binary.optional_header.dll_characteristics &= ~lief.PE.DLL_CHARACTERISTICS.DYNAMIC_BASE # bitwise not\n",
    "# Disable NX protection\n",
    "binary.optional_header.dll_characteristics &= ~lief.PE.DLL_CHARACTERISTICS.NX_COMPAT # bitwise not"
   ],
   "metadata": {
    "collapsed": false
   }
  },
  {
   "cell_type": "code",
   "execution_count": 20,
   "outputs": [
    {
     "data": {
      "text/plain": "<lief.PE.ImportEntry at 0x7f0c3444bc70>"
     },
     "execution_count": 20,
     "metadata": {},
     "output_type": "execute_result"
    }
   ],
   "source": [
    "# Add the sections\n",
    "section_text = binary.add_section(section_text)\n",
    "section_data = binary.add_section(section_data)\n",
    "\n",
    "# Add the 'ExitProcess' function to kernel32\n",
    "kernel32 = binary.get_import(\"KERNEL32.dll\")\n",
    "kernel32.add_entry(\"ExitProcess\")\n",
    "\n",
    "# Add the 'user32.dll' library\n",
    "user32 = binary.add_library(\"user32.dll\")\n",
    "\n",
    "# Add the 'MessageBoxA' function\n",
    "user32.add_entry(\"MessageBoxA\")"
   ],
   "metadata": {
    "collapsed": false
   }
  },
  {
   "cell_type": "code",
   "execution_count": 21,
   "outputs": [
    {
     "name": "stdout",
     "output_type": "stream",
     "text": [
      "Address of 'MessageBoxA': 0x00a3e4 \n",
      "Address of 'ExitProcess': 0x00a3d4 \n"
     ]
    }
   ],
   "source": [
    "ExitProcess_addr = binary.predict_function_rva(\"KERNEL32.dll\", \"ExitProcess\")\n",
    "MessageBoxA_addr = binary.predict_function_rva(\"user32.dll\", \"MessageBoxA\")\n",
    "print(\"Address of 'MessageBoxA': 0x{:06x} \".format(MessageBoxA_addr))\n",
    "print(\"Address of 'ExitProcess': 0x{:06x} \".format(ExitProcess_addr))"
   ],
   "metadata": {
    "collapsed": false
   }
  },
  {
   "cell_type": "code",
   "execution_count": 22,
   "outputs": [],
   "source": [
    "# Hook the '__acrt_iob_func' function with our code\n",
    "binary.hook_function(\"__acrt_iob_func\", binary.optional_header.imagebase + section_text.virtual_address)\n",
    "# Invoke the builder\n",
    "builder = lief.PE.Builder(binary)\n",
    "# Configure it to rebuild and patch the imports\n",
    "builder.build_imports(True).patch_imports(True)\n",
    "# Build !\n",
    "builder.build()\n",
    "# Save the result\n",
    "builder.write(\"lief_pe64_hooking.exe\")"
   ],
   "metadata": {
    "collapsed": false
   }
  },
  {
   "cell_type": "markdown",
   "source": [
    "# PE Resources"
   ],
   "metadata": {
    "collapsed": false
   }
  },
  {
   "cell_type": "code",
   "execution_count": 23,
   "outputs": [],
   "source": [
    "filezilla = lief.parse(\"filezilla.exe\")\n",
    "if not filezilla.has_resources:\n",
    "    print(\"'{}' has no resources. Abort!\".format(filezilla.name), file=sys.stderr)\n",
    "    sys.exit(1)\n",
    "root = filezilla.resources"
   ],
   "metadata": {
    "collapsed": false
   }
  },
  {
   "cell_type": "code",
   "execution_count": 24,
   "outputs": [
    {
     "name": "stdout",
     "output_type": "stream",
     "text": [
      "[<lief.PE.ResourceDirectory object at 0x7f0c34494930>, <lief.PE.ResourceDirectory object at 0x7f0c34494d70>, <lief.PE.ResourceDirectory object at 0x7f0c344949f0>, <lief.PE.ResourceDirectory object at 0x7f0c34494cf0>, <lief.PE.ResourceDirectory object at 0x7f0c344948f0>, <lief.PE.ResourceDirectory object at 0x7f0c344d12f0>, <lief.PE.ResourceDirectory object at 0x7f0c344d1a30>, <lief.PE.ResourceDirectory object at 0x7f0c344d11b0>]\n",
      "[1, 2, 3, 4, 12, 14, 16, 24]\n",
      "[<class 'lief.PE.ResourceDirectory'>, <class 'lief.PE.ResourceDirectory'>, <class 'lief.PE.ResourceDirectory'>, <class 'lief.PE.ResourceDirectory'>, <class 'lief.PE.ResourceDirectory'>, <class 'lief.PE.ResourceDirectory'>, <class 'lief.PE.ResourceDirectory'>, <class 'lief.PE.ResourceDirectory'>]\n",
      "[]\n"
     ]
    },
    {
     "data": {
      "text/plain": "<RESOURCE_TYPES.MANIFEST: 24>"
     },
     "execution_count": 24,
     "metadata": {},
     "output_type": "execute_result"
    }
   ],
   "source": [
    "childs = list(root.childs)\n",
    "print(childs)\n",
    "ids = [e.id for e in childs]\n",
    "print(ids)\n",
    "names = [type(e) for e in childs]\n",
    "print(names)\n",
    "filtered = list(filter(lambda e : e.id == lief.PE.RESOURCE_TYPES.MANIFEST, root.childs))\n",
    "print(filtered)\n",
    "lief.PE.RESOURCE_TYPES.MANIFEST"
   ],
   "metadata": {
    "collapsed": false
   }
  },
  {
   "cell_type": "code",
   "execution_count": 25,
   "outputs": [
    {
     "ename": "StopIteration",
     "evalue": "",
     "output_type": "error",
     "traceback": [
      "\u001B[0;31m---------------------------------------------------------------------------\u001B[0m",
      "\u001B[0;31mStopIteration\u001B[0m                             Traceback (most recent call last)",
      "Input \u001B[0;32mIn [25]\u001B[0m, in \u001B[0;36m<cell line: 2>\u001B[0;34m()\u001B[0m\n\u001B[1;32m      1\u001B[0m \u001B[38;5;66;03m# First level => Type\u001B[39;00m\n\u001B[0;32m----> 2\u001B[0m manifest_node \u001B[38;5;241m=\u001B[39m \u001B[38;5;28;43mnext\u001B[39;49m\u001B[43m(\u001B[49m\u001B[38;5;28;43mfilter\u001B[39;49m\u001B[43m(\u001B[49m\u001B[38;5;28;43;01mlambda\u001B[39;49;00m\u001B[43m \u001B[49m\u001B[43me\u001B[49m\u001B[43m \u001B[49m\u001B[43m:\u001B[49m\u001B[43m \u001B[49m\u001B[43me\u001B[49m\u001B[38;5;241;43m.\u001B[39;49m\u001B[43mid\u001B[49m\u001B[43m \u001B[49m\u001B[38;5;241;43m==\u001B[39;49m\u001B[43m \u001B[49m\u001B[43mlief\u001B[49m\u001B[38;5;241;43m.\u001B[39;49m\u001B[43mPE\u001B[49m\u001B[38;5;241;43m.\u001B[39;49m\u001B[43mRESOURCE_TYPES\u001B[49m\u001B[38;5;241;43m.\u001B[39;49m\u001B[43mMANIFEST\u001B[49m\u001B[43m,\u001B[49m\u001B[43m \u001B[49m\u001B[43mroot\u001B[49m\u001B[38;5;241;43m.\u001B[39;49m\u001B[43mchilds\u001B[49m\u001B[43m)\u001B[49m\u001B[43m)\u001B[49m\n\u001B[1;32m      3\u001B[0m \u001B[38;5;28mprint\u001B[39m(manifest_node)\n",
      "\u001B[0;31mStopIteration\u001B[0m: "
     ]
    }
   ],
   "source": [
    "# First level => Type\n",
    "manifest_node = next(filter(lambda e : e.id == lief.PE.RESOURCE_TYPES.MANIFEST, root.childs))\n",
    "print(manifest_node)"
   ],
   "metadata": {
    "collapsed": false
   }
  },
  {
   "cell_type": "code",
   "execution_count": null,
   "outputs": [],
   "source": [
    "# Second level => ID\n",
    "id_node = manifest_node.childs[0]\n",
    "print(id_node)"
   ],
   "metadata": {
    "collapsed": false
   }
  },
  {
   "cell_type": "code",
   "execution_count": null,
   "outputs": [],
   "source": [
    "# Third level => Lang (Data node)\n",
    "lang_node = id_node.childs[0]\n",
    "print(lang_node)"
   ],
   "metadata": {
    "collapsed": false
   }
  },
  {
   "cell_type": "code",
   "execution_count": null,
   "outputs": [],
   "source": [
    "manifest = bytes(lang_node.content).decode(\"utf8\")\n",
    "print(manifest)"
   ],
   "metadata": {
    "collapsed": false
   }
  },
  {
   "cell_type": "code",
   "execution_count": null,
   "outputs": [],
   "source": [
    "manifest = manifest.replace(\"asInvoker\", \"requireAdministrator\")\n",
    "print(manifest)"
   ],
   "metadata": {
    "collapsed": false
   }
  },
  {
   "cell_type": "code",
   "execution_count": null,
   "outputs": [],
   "source": [
    "lang_node.content = list(manifest.encode(\"utf8\"))"
   ],
   "metadata": {
    "collapsed": false
   }
  },
  {
   "cell_type": "code",
   "execution_count": null,
   "outputs": [],
   "source": [
    "# Rebuild\n",
    "builder = lief.PE.Builder(filezilla)\n",
    "builder.build_resources(True)\n",
    "builder.build()\n",
    "builder.write(\"filezilla_v2.exe\")"
   ],
   "metadata": {
    "collapsed": false
   }
  },
  {
   "cell_type": "markdown",
   "source": [
    "# Identify Offsets"
   ],
   "metadata": {
    "collapsed": false
   }
  },
  {
   "cell_type": "code",
   "execution_count": null,
   "outputs": [],
   "source": [
    "import lief\n",
    "path = \"../outputs/5/files/0003f09b129fac317bdf19e32dca9e189045d89c23eeeb9868861ac5f8a3e211.exe\"\n",
    "binary = lief.parse(path)"
   ],
   "metadata": {
    "collapsed": false
   }
  },
  {
   "cell_type": "code",
   "execution_count": null,
   "outputs": [],
   "source": [
    "section = binary.get_section(\".text\")"
   ],
   "metadata": {
    "collapsed": false
   }
  },
  {
   "cell_type": "code",
   "execution_count": null,
   "outputs": [],
   "source": [
    "type(section)"
   ],
   "metadata": {
    "collapsed": false
   }
  },
  {
   "cell_type": "code",
   "execution_count": null,
   "outputs": [],
   "source": [
    "section.offset, section.size\n",
    "section.offset + section.size"
   ],
   "metadata": {
    "collapsed": false
   }
  },
  {
   "cell_type": "code",
   "execution_count": null,
   "outputs": [],
   "source": [
    "sorted([s.offset for s in binary.sections])"
   ],
   "metadata": {
    "collapsed": false
   }
  },
  {
   "cell_type": "code",
   "execution_count": null,
   "outputs": [],
   "source": [
    "try:\n",
    "    binary.get_section(\"jhbfds\")\n",
    "except Exception as e:\n",
    "    print(type(e))\n",
    "    raise e"
   ],
   "metadata": {
    "collapsed": false
   }
  },
  {
   "cell_type": "markdown",
   "source": [
    "# Parse returning None"
   ],
   "metadata": {
    "collapsed": false
   }
  },
  {
   "cell_type": "code",
   "execution_count": null,
   "outputs": [],
   "source": [
    "path = \"/home/lk3591/Documents/datasets/Windows/processed/train/7e4c888acfca1c4068a76f1b61874554d7c3e4dc335f6d298ff8abbe.exe\"\n",
    "binary = lief.parse(path)"
   ],
   "metadata": {
    "collapsed": false
   }
  },
  {
   "cell_type": "code",
   "execution_count": null,
   "outputs": [],
   "source": [
    "print(binary)"
   ],
   "metadata": {
    "collapsed": false
   }
  },
  {
   "cell_type": "code",
   "execution_count": null,
   "outputs": [],
   "source": [],
   "metadata": {
    "collapsed": false
   }
  },
  {
   "cell_type": "markdown",
   "source": [
    "# Modifying Malware to Make it Less Suspicious"
   ],
   "metadata": {
    "collapsed": false
   }
  },
  {
   "cell_type": "code",
   "execution_count": 10,
   "outputs": [
    {
     "name": "stderr",
     "output_type": "stream",
     "text": [
      "Unable to find the section associated with CERTIFICATE_TABLE\n"
     ]
    }
   ],
   "source": [
    "import capstone as cs\n",
    "import lief\n",
    "path = \"../outputs/5/files/0003f09b129fac317bdf19e32dca9e189045d89c23eeeb9868861ac5f8a3e211.exe\"\n",
    "binary = lief.parse(path)"
   ],
   "metadata": {
    "collapsed": false
   }
  },
  {
   "cell_type": "code",
   "execution_count": 11,
   "outputs": [],
   "source": [
    "text = binary.get_section(\".text\")\n",
    "content = [hex(i) for i in text.content]"
   ],
   "metadata": {
    "collapsed": false
   }
  },
  {
   "cell_type": "code",
   "execution_count": 12,
   "outputs": [],
   "source": [
    "cs"
   ],
   "metadata": {
    "collapsed": false
   }
  },
  {
   "cell_type": "code",
   "execution_count": null,
   "outputs": [],
   "source": [],
   "metadata": {
    "collapsed": false
   }
  }
 ],
 "metadata": {
  "kernelspec": {
   "display_name": "Python 3",
   "language": "python",
   "name": "python3"
  },
  "language_info": {
   "codemirror_mode": {
    "name": "ipython",
    "version": 2
   },
   "file_extension": ".py",
   "mimetype": "text/x-python",
   "name": "python",
   "nbconvert_exporter": "python",
   "pygments_lexer": "ipython2",
   "version": "2.7.6"
  }
 },
 "nbformat": 4,
 "nbformat_minor": 0
}
