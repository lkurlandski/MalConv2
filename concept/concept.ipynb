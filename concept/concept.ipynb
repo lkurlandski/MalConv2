{
 "cells": [
  {
   "attachments": {},
   "cell_type": "markdown",
   "metadata": {},
   "source": [
    "# The Representation of an Algorithm Impacts its Maliciousness"
   ]
  },
  {
   "cell_type": "code",
   "execution_count": 48,
   "metadata": {},
   "outputs": [],
   "source": [
    "from collections import defaultdict\n",
    "from dataclasses import dataclass\n",
    "from itertools import combinations_with_replacement\n",
    "import os\n",
    "from pathlib import Path\n",
    "from pprint import pprint\n",
    "import shutil\n",
    "import statistics\n",
    "import subprocess\n",
    "import typing as tp"
   ]
  },
  {
   "cell_type": "code",
   "execution_count": 43,
   "metadata": {},
   "outputs": [],
   "source": [
    "ALGORITHM = (\"heap\", \"merge\", \"quick\")\n",
    "ENCRYPTION = (\"openssl\", \"cryptoppe\", \"tomcrypt\")\n",
    "PACKING = (\"none\", \"upx\", \"exepacker\")\n",
    "INPUT_ROOT = Path(\".\")\n",
    "OUTPUT_ROOT = Path(\"./outputs/concept\")\n",
    "ANACONDA = \"C:\\\\Users\\Luke\\\\anaconda3\\\\\""
   ]
  },
  {
   "cell_type": "code",
   "execution_count": 32,
   "metadata": {},
   "outputs": [],
   "source": [
    "class InputHelper:\n",
    "    \n",
    "    def __init__(self, algorithm: str, encryption: str) -> None:\n",
    "        self.algorithm = algorithm\n",
    "        self.encryption = encryption\n",
    "\n",
    "    @property\n",
    "    def root(self) -> Path:\n",
    "        return INPUT_ROOT\n",
    "        \n",
    "    @property\n",
    "    def path(self) -> Path:\n",
    "        return self.root / self.algorithm / self.encryption\n",
    "    \n",
    "    @property\n",
    "    def source_file(self) -> Path:\n",
    "        return self.path / \"main.cpp\"\n",
    "\n",
    "\n",
    "class OutputHelper:\n",
    "    \n",
    "    def __init__(self, algorithm: str, encryption: str, packing: str) -> None:\n",
    "        self.algorithm = algorithm\n",
    "        self.encryption = encryption\n",
    "        self.packing = packing\n",
    "    \n",
    "    def mkdir(self, exist_ok: bool = False, parents: bool = False) -> None:\n",
    "        self.source_path.mkdir(exist_ok=exist_ok, parents=parents)\n",
    "        self.binary_path.mkdir(exist_ok=exist_ok, parents=parents)\n",
    "    \n",
    "    @property\n",
    "    def root(self) -> Path:\n",
    "        return OUTPUT_ROOT\n",
    "        \n",
    "    @property\n",
    "    def path(self) -> Path:\n",
    "        return self.root / self.algorithm / self.encryption / self.packing\n",
    "\n",
    "    @property\n",
    "    def binaries_path(self) -> Path:\n",
    "        return self.path / \"binaries\"\n",
    "    \n",
    "    @property\n",
    "    def binaries(self) -> Path:\n",
    "        return list(self.binary_path.iterdir())"
   ]
  },
  {
   "attachments": {},
   "cell_type": "markdown",
   "metadata": {},
   "source": [
    "## Create Diverse Executables\n",
    "\n",
    "This needs to be run on my Windows Machine"
   ]
  },
  {
   "cell_type": "code",
   "execution_count": 37,
   "metadata": {},
   "outputs": [],
   "source": [
    "def _get_compiler_flags() -> tp.List[tp.List[str]]:\n",
    "    mixxy = [\n",
    "        \"-fno-inline\",\n",
    "        \"-fno-function-cse\",\n",
    "        \"-fno-guess-branch-probability\",\n",
    "        \"-fno-tree-loop-distribute-patterns\",\n",
    "    ]\n",
    "    flags = [tuple(set(i)) for i in combinations_with_replacement(mixxy, len(mixxy))]\n",
    "    flags = list(list(i) for i in set(flags))\n",
    "    flags += [[\"-O0\"], [\"-O2\"], [\"-O3\"]]\n",
    "    return flags\n",
    "\n",
    "\n",
    "class Compiler:\n",
    "    \n",
    "    flag_options = _get_compiler_flags()\n",
    "    \n",
    "    def __init__(self, source: str, algorithm: str, encryption: str) -> None:\n",
    "        self.source = Path(source)\n",
    "        self.flags = [f\"{algorithm}.cpp\"]\n",
    "        if encryption == \"openssl\":\n",
    "            self.flags.extend([\n",
    "                \"opensslencryption.cpp\",\n",
    "                f\"-I'{ANACONDA}include'\",\n",
    "                f\"-L'{ANACONDA}libs'\",\n",
    "                \"-lssl\",\n",
    "                \"-lcrypto\",\n",
    "            ])\n",
    "        elif encryption == \"cryptoppe\":\n",
    "            pass\n",
    "        elif encryption == \"tomcrypt\":\n",
    "            pass\n",
    "\n",
    "    def __call__(self, out: Path) -> tp.List[Path]:\n",
    "        successes = []\n",
    "        for i, var_flags in enumerate(self.flag_options):\n",
    "            o = out / str(i)\n",
    "            args = [\"g++\", self.source.as_posix()] + self.flags + [\"-o\", o.as_posix()] + var_flags\n",
    "            result = subprocess.run(args, capture_output=True, text=True)\n",
    "            stdout = str(result.stdout)\n",
    "            stderr = str(result.stderr)\n",
    "            if stderr:\n",
    "                print(\" \".join(args), f\"\\n{stderr}\")\n",
    "            else:\n",
    "                successes.append(o)"
   ]
  },
  {
   "cell_type": "code",
   "execution_count": null,
   "metadata": {},
   "outputs": [],
   "source": [
    "for alg in ALGORITHM:\n",
    "    for enc in ENCRYPTION:\n",
    "        input_helper = InputHelper(alg, enc)\n",
    "        compiler = Compiler(input_helper.source_file, alg, enc)\n",
    "        for pck in PACKING:\n",
    "            output_helper = OutputHelper(alg, enc, pck)\n",
    "            output_helper.mkdir(True, True)\n",
    "            compiler(output_helper.binaries_path)"
   ]
  },
  {
   "attachments": {},
   "cell_type": "markdown",
   "metadata": {},
   "source": [
    "# Apply Obfuscation\n",
    "\n",
    "Henceforth, we switch over to a Linux OS"
   ]
  },
  {
   "cell_type": "code",
   "execution_count": 54,
   "metadata": {},
   "outputs": [],
   "source": [
    "from captum.attr import FeatureAblation\n",
    "import lief\n",
    "import torch\n",
    "from torch import tensor\n",
    "\n",
    "os.chdir(\"/home/lk3591/Documents/code/MalConv2\")\n",
    "\n",
    "from classifier import confidence_scores, forward_function_malconv, get_dataset_and_loader, get_model\n",
    "from executable_helper import read_binary, stream_text_section_bounds\n",
    "from explain import AttributeParams, get_algorithm_kwargs, get_explanation_algorithm, BASELINE, TARGET\n",
    "from utils import batch"
   ]
  },
  {
   "cell_type": "code",
   "execution_count": null,
   "metadata": {},
   "outputs": [],
   "source": [
    "# TODO"
   ]
  },
  {
   "attachments": {},
   "cell_type": "markdown",
   "metadata": {},
   "source": [
    "## Analyze Executables"
   ]
  },
  {
   "cell_type": "code",
   "execution_count": 55,
   "metadata": {},
   "outputs": [],
   "source": [
    "def get_confidence_scores_from_files(model, files: tp.List[Path]) -> tp.List[float]:\n",
    "\tconfidences = []\n",
    "\tfor f in files:\n",
    "\t\tx = read_binary(f)\n",
    "\t\tx = tensor(x, dtype=torch.int64)\n",
    "\t\tc = confidence_scores(model, x)\n",
    "\t\tconfidences.append(c[0])\n",
    "\treturn confidences\n",
    "\n",
    "@dataclass\n",
    "class Result:\n",
    "    alg: str\n",
    "    enc: str\n",
    "    pck: str\n",
    "    confidences: tp.Iterable[float]\n",
    "    malratio: tp.Iterable[float]\n",
    "    conf_mean: float = None\n",
    "    conf_median: float = None\n",
    "    conf_max: float = None\n",
    "    conf_min: float = None\n",
    "    malratio_mean: float = None\n",
    "    malratio_median: float = None\n",
    "    malratio_max: float = None\n",
    "    malratio_min: float = None\n",
    "    \n",
    "    def __post_init__(self):\n",
    "        self.conf_mean = statistics.mean(self.confidences)\n",
    "        self.conf_median = statistics.median(self.confidences)\n",
    "        self.conf_max = max(self.confidences)\n",
    "        self.conf_min = min(self.confidences)\n",
    "        self.malratio_mean = statistics.mean(malratio)\n",
    "        self.malratio_median = statistics.median(malratio)\n",
    "        self.malratio_max = max(malratio)\n",
    "        self.malratio_min = max(malratio)\n",
    "        self.confidences = None\n",
    "        self.malratio = None"
   ]
  },
  {
   "cell_type": "code",
   "execution_count": null,
   "metadata": {},
   "outputs": [],
   "source": [
    "model = get_model(\"gct\")\n",
    "forward_function = forward_function_malconv(model, False)\n",
    "explainer = FeatureAblation(forward_function)\n",
    "params = AttributeParams(BASELINE, \".text\", 64, None, None, None, None, None, None, TARGET)\n",
    "results = []\n",
    "for alg in ALGORITHM:\n",
    "    for enc in ENCRYPTION:\n",
    "        for pck in PACKING:\n",
    "            output_helper = OutputHelper(alg, enc, pck)\n",
    "            dataset, loader = get_dataset_and_loader(\n",
    "                None, output_helper.binaries, batch_size=batch_size\n",
    "            )\n",
    "            files = dataset.all_files\n",
    "            \n",
    "            confidences = get_confidence_scores_from_files(model, files)\n",
    "            \n",
    "            malratio = []\n",
    "            bounds = batch(stream_text_section_bounds(files), batch_size, len(files))\n",
    "            for (_, lowers, uppers), (inputs, _) in zip(bounds, loader):\n",
    "                attribs = explainer.attribute(inputs, BASELINE. TARGET)\n",
    "                for a, l, u in zip(attribs, lowers, uppers):\n",
    "                    malratio.append((torch.sum(a[l:u]) / torch.sum(a)).item())\n",
    "            \n",
    "            result = Result(alg, enc, pck, confidences, malratio)\n",
    "            results.append(result)"
   ]
  },
  {
   "cell_type": "code",
   "execution_count": null,
   "metadata": {},
   "outputs": [],
   "source": []
  },
  {
   "attachments": {},
   "cell_type": "markdown",
   "metadata": {},
   "source": [
    "# Measure .text Section Maliciousness"
   ]
  },
  {
   "cell_type": "code",
   "execution_count": null,
   "metadata": {},
   "outputs": [],
   "source": []
  },
  {
   "attachments": {},
   "cell_type": "markdown",
   "metadata": {},
   "source": [
    "## Swap .text Sections Confidence Scores"
   ]
  },
  {
   "cell_type": "code",
   "execution_count": null,
   "metadata": {},
   "outputs": [],
   "source": [
    "def swap_text_sections(f_source: Path, f_replace: Path) -> Path:\n",
    "    source = lief.parse(f_source.as_posix())\n",
    "    replace = lief.parse(f_replace.as_posix())\n",
    "    source_text = source.get_section(\".text\")\n",
    "    replace_text = replace.get_section(\".text\")\n",
    "    source.remove(source_text)\n",
    "    source.add_section(replace_text)\n",
    "    \n",
    "    builder = lief.PE.Builder(source)\n",
    "    builder.build_imports(True)\n",
    "    builder.build()\n",
    "    f_out = f_source.parent / (f_source.stem + f_replace.stem + \".exe\")\n",
    "    builder.write(f_out.as_posix())\n",
    "\n",
    "    return f_out"
   ]
  },
  {
   "cell_type": "code",
   "execution_count": null,
   "metadata": {},
   "outputs": [],
   "source": [
    "for f_source in executables:\n",
    "    for f_replace in [f for f in executables if f != f_source]:\n",
    "        f_out = swap_text_sections(f_source, f_replace)\n",
    "        confidences[f_source.stem][f_replace.stem] = get_confidence_scores_from_files([f_out])[0]\n",
    "        if WINDOWS:\n",
    "            subprocess.run(f\"./{f_out}\")"
   ]
  },
  {
   "cell_type": "code",
   "execution_count": null,
   "metadata": {},
   "outputs": [],
   "source": [
    "pprint(confidences)\n",
    "max_and_min_confidences(confidences)"
   ]
  },
  {
   "cell_type": "code",
   "execution_count": null,
   "metadata": {},
   "outputs": [],
   "source": []
  },
  {
   "attachments": {},
   "cell_type": "markdown",
   "metadata": {},
   "source": [
    "# Main"
   ]
  }
 ],
 "metadata": {
  "kernelspec": {
   "display_name": "MalConv2",
   "language": "python",
   "name": "python3"
  },
  "language_info": {
   "codemirror_mode": {
    "name": "ipython",
    "version": 3
   },
   "file_extension": ".py",
   "mimetype": "text/x-python",
   "name": "python",
   "nbconvert_exporter": "python",
   "pygments_lexer": "ipython3",
   "version": "3.8.13"
  },
  "orig_nbformat": 4
 },
 "nbformat": 4,
 "nbformat_minor": 2
}
