{
 "cells": [
  {
   "cell_type": "markdown",
   "metadata": {},
   "source": [
    "# The Representation of an Algorithm Impacts its Maliciousness"
   ]
  },
  {
   "cell_type": "code",
   "execution_count": 44,
   "metadata": {},
   "outputs": [],
   "source": [
    "from collections import defaultdict\n",
    "from dataclasses import dataclass\n",
    "from importlib import reload\n",
    "from itertools import chain, combinations\n",
    "import os\n",
    "from pathlib import Path\n",
    "from pprint import pprint\n",
    "import shutil\n",
    "import statistics\n",
    "import subprocess\n",
    "import sys\n",
    "import typing as tp"
   ]
  },
  {
   "cell_type": "code",
   "execution_count": 2,
   "metadata": {},
   "outputs": [],
   "source": [
    "WINDOWS = False"
   ]
  },
  {
   "cell_type": "code",
   "execution_count": 3,
   "metadata": {},
   "outputs": [],
   "source": [
    "ALGORITHM = (\"heapsort\", \"mergesort\", \"quicksort\")\n",
    "ENCRYPTION = (\"openssl\",)  # \"cryptoppe\", \"tomcrypt\"\n",
    "PACKING = (\"None\", \"upx\",)  # \"exepacker\"\n",
    "INPUT_ROOT = Path(\".\")\n",
    "OUTPUT_ROOT = Path(\"./outputs/concept\")\n",
    "ANACONDA = \"C:\\\\Users\\Luke\\\\anaconda3\\\\\""
   ]
  },
  {
   "cell_type": "code",
   "execution_count": 4,
   "metadata": {},
   "outputs": [],
   "source": [
    "class InputHelper:\n",
    "    \n",
    "    def __init__(self, algorithm: str, encryption: str) -> None:\n",
    "        self.algorithm = algorithm\n",
    "        self.encryption = encryption\n",
    "\n",
    "    @property\n",
    "    def root(self) -> Path:\n",
    "        return INPUT_ROOT\n",
    "        \n",
    "    @property\n",
    "    def path(self) -> Path:\n",
    "        return self.root / self.algorithm / self.encryption\n",
    "    \n",
    "    @property\n",
    "    def source_file(self) -> Path:\n",
    "        return self.path / \"main.cpp\"\n",
    "\n",
    "\n",
    "class OutputHelper:\n",
    "    \n",
    "    def __init__(self, algorithm: str, encryption: str, packing: str) -> None:\n",
    "        self.algorithm = algorithm\n",
    "        self.encryption = encryption\n",
    "        self.packing = packing\n",
    "    \n",
    "    def mkdir(self, exist_ok: bool = False, parents: bool = False) -> None:\n",
    "        self.path.mkdir(exist_ok=exist_ok, parents=parents)\n",
    "        self.binaries_path.mkdir(exist_ok=exist_ok)\n",
    "    \n",
    "    @property\n",
    "    def root(self) -> Path:\n",
    "        return OUTPUT_ROOT\n",
    "        \n",
    "    @property\n",
    "    def path(self) -> Path:\n",
    "        return self.root / str(self.algorithm) / str(self.encryption) / str(self.packing)\n",
    "\n",
    "    @property\n",
    "    def binaries_path(self) -> Path:\n",
    "        return self.path / \"binaries\"\n",
    "    \n",
    "    @property\n",
    "    def binaries(self) -> Path:\n",
    "        return list(self.binaries_path.iterdir())"
   ]
  },
  {
   "cell_type": "markdown",
   "metadata": {},
   "source": [
    "## Create Diverse Executables\n",
    "\n",
    "This needs to be run on my Windows Machine"
   ]
  },
  {
   "cell_type": "code",
   "execution_count": 54,
   "metadata": {},
   "outputs": [],
   "source": [
    "def _get_compiler_flags() -> tp.List[tp.List[str]]:\n",
    "    mixxy = [  # can be mixed together with each other\n",
    "        \"-fno-inline\",\n",
    "        \"-fno-function-cse\",\n",
    "        \"-fno-guess-branch-probability\",\n",
    "        \"-fno-tree-loop-distribute-patterns\",\n",
    "    ]\n",
    "    nomixy = [  # can not be mixed with each other\n",
    "        \"-O0\", \"-O2\", \"-O3\",\n",
    "    ]\n",
    "    flags = list(chain.from_iterable([[i for i in combinations(mixxy, l)] for l in range(len(mixxy))]))\n",
    "    flags = list(chain.from_iterable([[list(x) + [n] for n in nomixy] for x in flags]))\n",
    "    return flags\n",
    "\n",
    "\n",
    "class Compiler:\n",
    "    \n",
    "    flag_options = _get_compiler_flags()\n",
    "    \n",
    "    def __init__(self, source: str, algorithm: str, encryption: str) -> None:\n",
    "        self.source = Path(source)\n",
    "        self.flags = [f\"{algorithm}.cpp\"]\n",
    "        if encryption == \"openssl\":\n",
    "            self.flags.extend([\n",
    "                \"opensslencryption.cpp\",\n",
    "                f\"-I'{ANACONDA}include'\",\n",
    "                f\"-L'{ANACONDA}libs'\",\n",
    "                \"-lssl\",\n",
    "                \"-lcrypto\",\n",
    "            ])\n",
    "        elif encryption == \"cryptoppe\":\n",
    "            raise NotImplementedError()\n",
    "        elif encryption == \"tomcrypt\":\n",
    "            raise NotImplementedError()\n",
    "\n",
    "    def __call__(self, out: Path) -> tp.List[Path]:\n",
    "        successes = []\n",
    "        for i, var_flags in enumerate(self.flag_options):\n",
    "            o = out / str(i)\n",
    "            args = [\"g++\", self.source.as_posix()] + self.flags + [\"-o\", o.as_posix()] + var_flags\n",
    "            result = subprocess.run(args, capture_output=True, text=True)\n",
    "            stdout = str(result.stdout)\n",
    "            stderr = str(result.stderr)\n",
    "            if stdout:\n",
    "                print(\" \".join(args), f\"\\n{stdout}\")\n",
    "            if stderr:\n",
    "                print(\" \".join(args), f\"\\n{stderr}\")\n",
    "            else:\n",
    "                print(\" \".join(args), \"\\n...SUCCESS...\\n\")\n",
    "                successes.append(o)\n",
    "        return successes"
   ]
  },
  {
   "cell_type": "code",
   "execution_count": 6,
   "metadata": {},
   "outputs": [],
   "source": [
    "if WINDOWS:\n",
    "    for alg in ALGORITHM:\n",
    "        for enc in ENCRYPTION:\n",
    "            input_helper = InputHelper(alg, enc)\n",
    "            compiler = Compiler(input_helper.source_file, alg, enc)\n",
    "            for pck in PACKING:\n",
    "                output_helper = OutputHelper(alg, enc, pck)\n",
    "                output_helper.mkdir(True, True)\n",
    "                compiler(output_helper.binaries_path)"
   ]
  },
  {
   "cell_type": "markdown",
   "metadata": {},
   "source": [
    "# Apply Obfuscation\n",
    "\n",
    "Henceforth, we switch over to a Linux OS"
   ]
  },
  {
   "cell_type": "code",
   "execution_count": 7,
   "metadata": {},
   "outputs": [],
   "source": [
    "os.chdir(\"/home/lk3591/Documents/code/MalConv2\")"
   ]
  },
  {
   "cell_type": "code",
   "execution_count": 8,
   "metadata": {},
   "outputs": [],
   "source": [
    "def pack(pck: str, infile: Path, outfile: Path) -> bool:\n",
    "    outfile.unlink(missing_ok=True)\n",
    "    \n",
    "    if pck == \"upx\":\n",
    "        args = [\"/home/lk3591/.local/share/upx-4.0.1-amd64_linux/upx\", \"-o\", outfile.as_posix(), infile.as_posix()]\n",
    "    elif pck == \"exepacker\":\n",
    "        raise NotImplementedError()\n",
    "    else:\n",
    "        raise ValueError(f\"{pck=} not recognized.\")\n",
    "    \n",
    "    result = subprocess.run(args, capture_output=True, text=True)\n",
    "    stdout = str(result.stdout)\n",
    "    stderr = str(result.stderr)\n",
    "    \n",
    "    if stdout:\n",
    "        print(\" \".join(args), f\"\\n{stdout}\")\n",
    "    if stderr:\n",
    "        print(\" \".join(args), f\"\\n{stderr}\")\n",
    "        return False\n",
    "    return True"
   ]
  },
  {
   "cell_type": "code",
   "execution_count": null,
   "metadata": {},
   "outputs": [],
   "source": [
    "for alg in ALGORITHM:\n",
    "    for enc in ENCRYPTION:\n",
    "        source = OutputHelper(alg, enc, None).binaries\n",
    "        for pck in PACKING:\n",
    "            if str(pck) == \"None\":\n",
    "                continue\n",
    "            target = OutputHelper(alg, enc, pck).binaries_path\n",
    "            for f in source:\n",
    "                pack(pck, f, target / f.name)"
   ]
  },
  {
   "cell_type": "code",
   "execution_count": 13,
   "metadata": {},
   "outputs": [],
   "source": [
    "from captum.attr import FeatureAblation, KernelShap\n",
    "import lief\n",
    "import matplotlib.pyplot as plt\n",
    "import numpy as np\n",
    "import torch\n",
    "from torch import tensor\n",
    "from tqdm import tqdm\n",
    "\n",
    "import cfg\n",
    "from classifier import confidence_scores, forward_function_malconv, get_dataset_and_loader, get_model\n",
    "from executable_helper import read_binary, stream_text_section_bounds\n",
    "from explain import FeatureMask, BASELINE, TARGET\n",
    "import utils\n",
    "from utils import batch"
   ]
  },
  {
   "cell_type": "code",
   "execution_count": 10,
   "metadata": {},
   "outputs": [
    {
     "name": "stdout",
     "output_type": "stream",
     "text": [
      "----------------------------------------------------------------------------------------\n",
      "---------------------------------------- CONFIG ----------------------------------------\n",
      "----------------------------------------------------------------------------------------\n",
      "seed=0\n",
      "device=device(type='cuda', index=1)\n",
      "torch.backends.cudnn.enabled=False\n"
     ]
    }
   ],
   "source": [
    "cfg.init(\"cuda:1\", 0)"
   ]
  },
  {
   "cell_type": "markdown",
   "metadata": {},
   "source": [
    "## Analyze Executables"
   ]
  },
  {
   "cell_type": "code",
   "execution_count": 16,
   "metadata": {},
   "outputs": [],
   "source": [
    "def get_confidence_scores_from_files(model, files: tp.List[Path]) -> tp.List[float]:\n",
    "\tconfidences = []\n",
    "\tfor f in files:\n",
    "\t\tx = read_binary(f)\n",
    "\t\tx = tensor(x, dtype=torch.int64)\n",
    "\t\tc = confidence_scores(model, x)\n",
    "\t\tconfidences.append(c[0])\n",
    "\treturn confidences\n",
    "\n",
    "@dataclass\n",
    "class Result:\n",
    "    alg: str\n",
    "    enc: str\n",
    "    pck: str\n",
    "    confidences: np.ndarray\n",
    "    malratio: np.ndarray\n",
    "    conf_mean: float = np.NaN\n",
    "    conf_median: float = np.NaN\n",
    "    conf_max: float = np.NaN\n",
    "    conf_min: float = np.NaN\n",
    "    malratio_mean: float = np.NaN\n",
    "    malratio_median: float = np.NaN\n",
    "    malratio_max: float = np.NaN\n",
    "    malratio_min: float = np.NaN\n",
    "    \n",
    "    def __post_init__(self):\n",
    "        if self.confidences.size > 0:\n",
    "            self.conf_mean = np.mean(self.confidences)\n",
    "            self.conf_median = np.median(self.confidences)\n",
    "            self.conf_max = np.max(self.confidences)\n",
    "            self.conf_min = np.min(self.confidences)\n",
    "\n",
    "        if self.malratio.size > 0:\n",
    "            self.malratio_mean = np.mean(malratio)\n",
    "            self.malratio_median = np.median(malratio)\n",
    "            self.malratio_max = np.max(malratio)\n",
    "            self.malratio_min = np.max(malratio)"
   ]
  },
  {
   "attachments": {},
   "cell_type": "markdown",
   "metadata": {},
   "source": [
    "The explanation portion appears to have some sort of bug in it because it returns different values for the same executable..."
   ]
  },
  {
   "cell_type": "code",
   "execution_count": null,
   "metadata": {},
   "outputs": [],
   "source": [
    "model = get_model(\"gct\").to(cfg.device)\n",
    "forward_function = forward_function_malconv(model, False)\n",
    "explainer = FeatureAblation(forward_function)\n",
    "batch_size = 32\n",
    "feature_mask_size = 256\n",
    "feature_mask_mode = \"all\"\n",
    "results = []\n",
    "for alg in ALGORITHM:\n",
    "    print(f\"{'-' * 10} {alg} {'-' * 10}\")\n",
    "    for enc in ENCRYPTION:\n",
    "        for pck in reversed(PACKING):\n",
    "            print(f\"{'-' * 5}      {pck}      {'-' * 5}\")\n",
    "            output_helper = OutputHelper(alg, enc, pck)\n",
    "            dataset, loader = get_dataset_and_loader(\n",
    "                None, output_helper.binaries, batch_size=batch_size\n",
    "            )\n",
    "            files = [Path(e[0]) for e in dataset.all_files]\n",
    "            \n",
    "            confidences = get_confidence_scores_from_files(model, files)\n",
    "            \n",
    "            malratio = []\n",
    "            bounds = batch(stream_text_section_bounds(files, \"pefile\", errors=\"ignore\"), batch_size)\n",
    "            \n",
    "            for bounds_batch, (inputs, _) in tqdm(zip(bounds, loader), total=len(loader)):\n",
    "                inputs = inputs.to(cfg.device)\n",
    "                lowers = [l for _, l, _ in bounds_batch]\n",
    "                uppers = [u for _, _, u in bounds_batch]\n",
    "                \n",
    "                \n",
    "                feature_mask = FeatureMask(\n",
    "                    inputs,\n",
    "                    feature_mask_size,\n",
    "                    feature_mask_mode,\n",
    "                    lowers,\n",
    "                    uppers,\n",
    "                )().to(cfg.device)\n",
    "                \n",
    "                attribs = explainer.attribute(inputs, BASELINE, TARGET, feature_mask=feature_mask)\n",
    "                for a, l, u in zip(attribs, lowers, uppers):\n",
    "                    malratio.append((torch.sum(a[l:u]) / torch.sum(a)).item())\n",
    "            \n",
    "            result = Result(alg, enc, pck, np.array(confidences), np.array(malratio))\n",
    "            results.append(result)"
   ]
  },
  {
   "cell_type": "code",
   "execution_count": null,
   "metadata": {},
   "outputs": [],
   "source": [
    "results"
   ]
  },
  {
   "attachments": {},
   "cell_type": "markdown",
   "metadata": {},
   "source": [
    "## Plotting"
   ]
  },
  {
   "cell_type": "code",
   "execution_count": 19,
   "metadata": {},
   "outputs": [],
   "source": [
    "COLORS = [\"red\", \"blue\", \"green\", \"orange\", \"purple\"]\n",
    "MARKERS = [\".\", \"x\", \"+\", \"1\", \"2\"]"
   ]
  },
  {
   "cell_type": "code",
   "execution_count": 26,
   "metadata": {},
   "outputs": [],
   "source": [
    "def get_result(alg, enc, pck):\n",
    "    for r in results:\n",
    "        if r.alg == alg and r.enc == enc and r.pck == pck:\n",
    "            return r\n",
    "    raise Exception()"
   ]
  },
  {
   "cell_type": "code",
   "execution_count": 40,
   "metadata": {},
   "outputs": [
    {
     "data": {
      "image/png": "[encoded data removed]",
      "text/plain": [
       "<Figure size 640x480 with 1 Axes>"
      ]
     },
     "metadata": {},
     "output_type": "display_data"
    }
   ],
   "source": [
    "for i, alg in enumerate(ALGORITHM):\n",
    "    for j, enc in enumerate(ENCRYPTION):\n",
    "        for k, pck in enumerate((\"None\",)):\n",
    "            result = get_result(alg, enc, pck)\n",
    "            plt.scatter(x=list(range(len(result.confidences))), y=result.confidences, color=COLORS[i], marker=MARKERS[k], label=alg)\n",
    "plt.legend()\n",
    "plt.title(\"UPX\")\n",
    "plt.ylabel(\"Confidence\")\n",
    "plt.xlabel(\"Compiler Flags\")\n",
    "_ = plt.xticks(list(range(len(result.confidences))))"
   ]
  },
  {
   "cell_type": "code",
   "execution_count": 41,
   "metadata": {},
   "outputs": [
    {
     "data": {
      "image/png": "[encoded data removed]",
      "text/plain": [
       "<Figure size 640x480 with 1 Axes>"
      ]
     },
     "metadata": {},
     "output_type": "display_data"
    }
   ],
   "source": [
    "for i, alg in enumerate(ALGORITHM):\n",
    "    for j, enc in enumerate(ENCRYPTION):\n",
    "        for k, pck in enumerate((\"upx\",)):\n",
    "            result = get_result(alg, enc, pck)\n",
    "            plt.scatter(x=list(range(len(result.confidences))), y=result.confidences, color=COLORS[i], marker=MARKERS[k], label=alg)\n",
    "plt.legend()\n",
    "plt.title(\"Basic\")\n",
    "plt.ylabel(\"Confidence\")\n",
    "plt.xlabel(\"Compiler Flags\")\n",
    "_ = plt.xticks(list(range(len(result.confidences))))"
   ]
  },
  {
   "cell_type": "markdown",
   "metadata": {},
   "source": [
    "## Swap .text Sections Confidence Scores"
   ]
  },
  {
   "cell_type": "code",
   "execution_count": null,
   "metadata": {},
   "outputs": [],
   "source": [
    "def swap_text_sections(f_source: Path, f_replace: Path) -> Path:\n",
    "    source = lief.parse(f_source.as_posix())\n",
    "    replace = lief.parse(f_replace.as_posix())\n",
    "    source_text = source.get_section(\".text\")\n",
    "    replace_text = replace.get_section(\".text\")\n",
    "    source.remove(source_text)\n",
    "    source.add_section(replace_text)\n",
    "    \n",
    "    builder = lief.PE.Builder(source)\n",
    "    builder.build_imports(True)\n",
    "    builder.build()\n",
    "    f_out = f_source.parent / (f_source.stem + f_replace.stem + \".exe\")\n",
    "    builder.write(f_out.as_posix())\n",
    "\n",
    "    return f_out"
   ]
  },
  {
   "cell_type": "code",
   "execution_count": null,
   "metadata": {},
   "outputs": [],
   "source": [
    "for f_source in executables:\n",
    "    for f_replace in [f for f in executables if f != f_source]:\n",
    "        f_out = swap_text_sections(f_source, f_replace)\n",
    "        confidences[f_source.stem][f_replace.stem] = get_confidence_scores_from_files([f_out])[0]\n",
    "        if WINDOWS:\n",
    "            subprocess.run(f\"./{f_out}\")"
   ]
  },
  {
   "cell_type": "code",
   "execution_count": null,
   "metadata": {},
   "outputs": [],
   "source": [
    "pprint(confidences)\n",
    "max_and_min_confidences(confidences)"
   ]
  },
  {
   "cell_type": "markdown",
   "metadata": {},
   "source": [
    "# Main"
   ]
  },
  {
   "cell_type": "code",
   "execution_count": 59,
   "metadata": {},
   "outputs": [
    {
     "name": "stdout",
     "output_type": "stream",
     "text": [
      "[('Hi', 1), ('Hi', 1), ('Hi', 1)]\n",
      "[('Hi', 1), ('Hi', 1), ('Hi', 1)]\n",
      "[('Hi', 1), ('Hi', 1), ('Hi', 1)]\n",
      "[('Hi', 1)]\n",
      "[('Hi', 1), ('Hi', 1), ('Hi', 1)]\n",
      "[('Hi', 1), ('Hi', 1), ('Hi', 1)]\n",
      "[('Hi', 1), ('Hi', 1), ('Hi', 1)]\n",
      "[('Hi', 1)]\n"
     ]
    }
   ],
   "source": [
    "import utils\n",
    "reload(utils)\n",
    "\n",
    "\n",
    "x = [(\"Hi\", 1) for _ in range(10)]\n",
    "for b in utils.batch(x, 3):\n",
    "    print(b)\n",
    "\n",
    "x = ((\"Hi\", 1) for _ in range(10))\n",
    "for b in utils.batch(x, 3):\n",
    "    print(b)"
   ]
  },
  {
   "cell_type": "code",
   "execution_count": null,
   "metadata": {},
   "outputs": [],
   "source": []
  }
 ],
 "metadata": {
  "kernelspec": {
   "display_name": "Python 3 (ipykernel)",
   "language": "python",
   "name": "python3"
  },
  "language_info": {
   "codemirror_mode": {
    "name": "ipython",
    "version": 3
   },
   "file_extension": ".py",
   "mimetype": "text/x-python",
   "name": "python",
   "nbconvert_exporter": "python",
   "pygments_lexer": "ipython3",
   "version": "3.8.13"
  }
 },
 "nbformat": 4,
 "nbformat_minor": 4
}
