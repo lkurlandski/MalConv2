{
 "cells": [
  {
   "attachments": {},
   "cell_type": "markdown",
   "metadata": {},
   "source": [
    "# The Representation of an Algorithm Impacts its Maliciousness"
   ]
  },
  {
   "cell_type": "code",
   "execution_count": 10,
   "metadata": {},
   "outputs": [],
   "source": [
    "import os\n",
    "from pathlib import Path\n",
    "from pprint import pprint\n",
    "import shutil\n",
    "import subprocess\n",
    "import typing as tp\n",
    "\n",
    "import lief\n",
    "import torch\n",
    "from torch import tensor\n",
    "\n",
    "os.chdir(\"/home/lk3591/Documents/code/MalConv2\")\n",
    "\n",
    "from classifier import confidence_scores, get_model\n",
    "from executable_helper import read_binary, _text_section_bounds_pefile, _text_section_bounds_lief"
   ]
  },
  {
   "attachments": {},
   "cell_type": "markdown",
   "metadata": {},
   "source": [
    "## Create and Test Diverse Executables"
   ]
  },
  {
   "cell_type": "code",
   "execution_count": 11,
   "metadata": {},
   "outputs": [],
   "source": [
    "WINDOWS = False"
   ]
  },
  {
   "cell_type": "code",
   "execution_count": 27,
   "metadata": {},
   "outputs": [
    {
     "name": "stdout",
     "output_type": "stream",
     "text": [
      "['g++', '-O1', 'proof_of_concept/one.cpp', '-o', 'proof_of_concept/one_0.exe']\n",
      "\n",
      "\n",
      "['g++', '-O2', 'proof_of_concept/one.cpp', '-o', 'proof_of_concept/one_1.exe']\n",
      "\n",
      "\n",
      "['g++', '-O3', 'proof_of_concept/one.cpp', '-o', 'proof_of_concept/one_2.exe']\n",
      "\n",
      "\n",
      "['g++', '-O1', 'proof_of_concept/two.cpp', '-o', 'proof_of_concept/two_0.exe']\n",
      "\n",
      "\n",
      "['g++', '-O2', 'proof_of_concept/two.cpp', '-o', 'proof_of_concept/two_1.exe']\n",
      "\n",
      "\n",
      "['g++', '-O3', 'proof_of_concept/two.cpp', '-o', 'proof_of_concept/two_2.exe']\n",
      "\n",
      "\n",
      "['g++', '-O1', 'proof_of_concept/three.cpp', '-o', 'proof_of_concept/three_0.exe']\n",
      "\n",
      "\n",
      "['g++', '-O2', 'proof_of_concept/three.cpp', '-o', 'proof_of_concept/three_1.exe']\n",
      "\n",
      "\n",
      "['g++', '-O3', 'proof_of_concept/three.cpp', '-o', 'proof_of_concept/three_2.exe']\n",
      "\n",
      "\n"
     ]
    }
   ],
   "source": [
    "compiler = \"g++\" if WINDOWS else \"i686-w64-mingw32-g++\"\n",
    "compiler = \"g++\"\n",
    "source_code_files = [\n",
    "\tPath(\"./proof_of_concept/one.cpp\"),\n",
    "\tPath(\"./proof_of_concept/two.cpp\"),\n",
    "\tPath(\"./proof_of_concept/three.cpp\"),\n",
    "]\n",
    "compiler_flags = [\n",
    "    [\"-O1\"],\n",
    "    [\"-O2\"],\n",
    "    [\"-O3\"],\n",
    "]\n",
    "executables = []\n",
    "for _, f in enumerate(source_code_files):\n",
    "\tfor j, c in enumerate(compiler_flags):\n",
    "\t\tout = f.with_name(f\"{f.stem}_{j}.exe\")\n",
    "\t\texecutables.append(out)\n",
    "\t\targs = [compiler] + c + [f.as_posix(), \"-o\", out.as_posix()]\n",
    "\t\tprint(args)\n",
    "\t\tresult = subprocess.run(args, capture_output=True, text=True)\n",
    "\t\tprint(result.stdout)\n",
    "\t\tprint(result.stderr)\n",
    "\t\tif WINDOWS:\n",
    "\t\t\tsubprocess.run(f\"./{out}\")"
   ]
  },
  {
   "cell_type": "markdown",
   "metadata": {},
   "source": [
    "## Initial Confidence Scores"
   ]
  },
  {
   "cell_type": "code",
   "execution_count": 28,
   "metadata": {},
   "outputs": [],
   "source": [
    "model = get_model(\"gct\")"
   ]
  },
  {
   "cell_type": "code",
   "execution_count": 29,
   "metadata": {},
   "outputs": [],
   "source": [
    "def get_confidence_scores_from_files(files: tp.List[Path]) -> tp.List[float]:\n",
    "\tconfidences = []\n",
    "\tfor f in files:\n",
    "\t\tx = read_binary(f)\n",
    "\t\tx = tensor(x, dtype=torch.int64)\n",
    "\t\tc = confidence_scores(model, x)\n",
    "\t\tconfidences.append(c[0])\n",
    "\treturn confidences"
   ]
  },
  {
   "cell_type": "code",
   "execution_count": 30,
   "metadata": {},
   "outputs": [
    {
     "name": "stdout",
     "output_type": "stream",
     "text": [
      "{PosixPath('proof_of_concept/one_0.exe'): 0.0007249452,\n",
      " PosixPath('proof_of_concept/one_1.exe'): 8.49943e-08,\n",
      " PosixPath('proof_of_concept/one_2.exe'): 0.0012599931,\n",
      " PosixPath('proof_of_concept/three_0.exe'): 0.0024707445,\n",
      " PosixPath('proof_of_concept/three_1.exe'): 5.3366927e-07,\n",
      " PosixPath('proof_of_concept/three_2.exe'): 0.00013091115,\n",
      " PosixPath('proof_of_concept/two_0.exe'): 0.004160217,\n",
      " PosixPath('proof_of_concept/two_1.exe'): 0.0023554247,\n",
      " PosixPath('proof_of_concept/two_2.exe'): 6.575331e-05}\n"
     ]
    }
   ],
   "source": [
    "confidences = get_confidence_scores_from_files(executables)\n",
    "initial_confidences = {f : c for f, c in zip(executables, confidences)}\n",
    "pprint(initial_confidences)"
   ]
  },
  {
   "attachments": {},
   "cell_type": "markdown",
   "metadata": {},
   "source": [
    "## Swap .text sections"
   ]
  },
  {
   "cell_type": "code",
   "execution_count": 34,
   "metadata": {},
   "outputs": [],
   "source": [
    "def swap_text_sections(f_source: Path, f_replace: Path) -> Path:\n",
    "    source = lief.parse(f_source.as_posix())\n",
    "    replace = lief.parse(f_replace.as_posix())\n",
    "    source_text = source.get_section(\".text\")\n",
    "    replace_text = replace.get_section(\".text\")\n",
    "    source.remove(source_text)\n",
    "    source.add_section(replace_text)\n",
    "    \n",
    "    builder = lief.PE.Builder(source)\n",
    "    builder.build_imports(True)\n",
    "    builder.build()\n",
    "    f_out = f_source.parent / (f_source.stem + f_replace.stem + \".exe\")\n",
    "    builder.write(f_out.as_posix())\n",
    "\n",
    "    return f_out"
   ]
  },
  {
   "cell_type": "code",
   "execution_count": 35,
   "metadata": {},
   "outputs": [
    {
     "ename": "AttributeError",
     "evalue": "'lief.ELF.Binary' object has no attribute 'add_section'",
     "output_type": "error",
     "traceback": [
      "\u001b[0;31m---------------------------------------------------------------------------\u001b[0m",
      "\u001b[0;31mAttributeError\u001b[0m                            Traceback (most recent call last)",
      "\u001b[1;32m/home/lk3591/Documents/code/MalConv2/proof_of_concept/main.ipynb Cell 12\u001b[0m in \u001b[0;36m<cell line: 1>\u001b[0;34m()\u001b[0m\n\u001b[1;32m      <a href='vscode-notebook-cell://ssh-remote%2Barmitage.csec.rit.edu/home/lk3591/Documents/code/MalConv2/proof_of_concept/main.ipynb#X12sdnNjb2RlLXJlbW90ZQ%3D%3D?line=0'>1</a>\u001b[0m \u001b[39mfor\u001b[39;00m f_source \u001b[39min\u001b[39;00m executables:\n\u001b[1;32m      <a href='vscode-notebook-cell://ssh-remote%2Barmitage.csec.rit.edu/home/lk3591/Documents/code/MalConv2/proof_of_concept/main.ipynb#X12sdnNjb2RlLXJlbW90ZQ%3D%3D?line=1'>2</a>\u001b[0m     \u001b[39mfor\u001b[39;00m f_replace \u001b[39min\u001b[39;00m [f \u001b[39mfor\u001b[39;00m f \u001b[39min\u001b[39;00m executables \u001b[39mif\u001b[39;00m f \u001b[39m!=\u001b[39m f_source]:\n\u001b[0;32m----> <a href='vscode-notebook-cell://ssh-remote%2Barmitage.csec.rit.edu/home/lk3591/Documents/code/MalConv2/proof_of_concept/main.ipynb#X12sdnNjb2RlLXJlbW90ZQ%3D%3D?line=2'>3</a>\u001b[0m         f_out \u001b[39m=\u001b[39m swap_text_sections(f_source, f_replace)\n\u001b[1;32m      <a href='vscode-notebook-cell://ssh-remote%2Barmitage.csec.rit.edu/home/lk3591/Documents/code/MalConv2/proof_of_concept/main.ipynb#X12sdnNjb2RlLXJlbW90ZQ%3D%3D?line=3'>4</a>\u001b[0m         \u001b[39mif\u001b[39;00m WINDOWS:\n\u001b[1;32m      <a href='vscode-notebook-cell://ssh-remote%2Barmitage.csec.rit.edu/home/lk3591/Documents/code/MalConv2/proof_of_concept/main.ipynb#X12sdnNjb2RlLXJlbW90ZQ%3D%3D?line=4'>5</a>\u001b[0m             subprocess\u001b[39m.\u001b[39mrun(\u001b[39mf\u001b[39m\u001b[39m\"\u001b[39m\u001b[39m./\u001b[39m\u001b[39m{\u001b[39;00mf_out\u001b[39m}\u001b[39;00m\u001b[39m\"\u001b[39m)\n",
      "\u001b[1;32m/home/lk3591/Documents/code/MalConv2/proof_of_concept/main.ipynb Cell 12\u001b[0m in \u001b[0;36mswap_text_sections\u001b[0;34m(f_source, f_replace)\u001b[0m\n\u001b[1;32m      <a href='vscode-notebook-cell://ssh-remote%2Barmitage.csec.rit.edu/home/lk3591/Documents/code/MalConv2/proof_of_concept/main.ipynb#X12sdnNjb2RlLXJlbW90ZQ%3D%3D?line=4'>5</a>\u001b[0m replace_text \u001b[39m=\u001b[39m replace\u001b[39m.\u001b[39mget_section(\u001b[39m\"\u001b[39m\u001b[39m.text\u001b[39m\u001b[39m\"\u001b[39m)\n\u001b[1;32m      <a href='vscode-notebook-cell://ssh-remote%2Barmitage.csec.rit.edu/home/lk3591/Documents/code/MalConv2/proof_of_concept/main.ipynb#X12sdnNjb2RlLXJlbW90ZQ%3D%3D?line=5'>6</a>\u001b[0m source\u001b[39m.\u001b[39mremove(source_text)\n\u001b[0;32m----> <a href='vscode-notebook-cell://ssh-remote%2Barmitage.csec.rit.edu/home/lk3591/Documents/code/MalConv2/proof_of_concept/main.ipynb#X12sdnNjb2RlLXJlbW90ZQ%3D%3D?line=6'>7</a>\u001b[0m source\u001b[39m.\u001b[39;49madd_section(replace_text)\n\u001b[1;32m      <a href='vscode-notebook-cell://ssh-remote%2Barmitage.csec.rit.edu/home/lk3591/Documents/code/MalConv2/proof_of_concept/main.ipynb#X12sdnNjb2RlLXJlbW90ZQ%3D%3D?line=8'>9</a>\u001b[0m builder \u001b[39m=\u001b[39m lief\u001b[39m.\u001b[39mPE\u001b[39m.\u001b[39mBuilder(source)\n\u001b[1;32m     <a href='vscode-notebook-cell://ssh-remote%2Barmitage.csec.rit.edu/home/lk3591/Documents/code/MalConv2/proof_of_concept/main.ipynb#X12sdnNjb2RlLXJlbW90ZQ%3D%3D?line=9'>10</a>\u001b[0m builder\u001b[39m.\u001b[39mbuild_imports(\u001b[39mTrue\u001b[39;00m)\n",
      "\u001b[0;31mAttributeError\u001b[0m: 'lief.ELF.Binary' object has no attribute 'add_section'"
     ]
    }
   ],
   "source": [
    "for f_source in executables:\n",
    "    for f_replace in [f for f in executables if f != f_source]:\n",
    "        f_out = swap_text_sections(f_source, f_replace)\n",
    "        if WINDOWS:\n",
    "            subprocess.run(f\"./{f_out}\")"
   ]
  },
  {
   "cell_type": "code",
   "execution_count": null,
   "metadata": {},
   "outputs": [],
   "source": []
  }
 ],
 "metadata": {
  "kernelspec": {
   "display_name": "MalConv2",
   "language": "python",
   "name": "python3"
  },
  "language_info": {
   "codemirror_mode": {
    "name": "ipython",
    "version": 3
   },
   "file_extension": ".py",
   "mimetype": "text/x-python",
   "name": "python",
   "nbconvert_exporter": "python",
   "pygments_lexer": "ipython3",
   "version": "3.8.13"
  },
  "orig_nbformat": 4
 },
 "nbformat": 4,
 "nbformat_minor": 2
}
