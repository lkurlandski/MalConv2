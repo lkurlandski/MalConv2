{
 "cells": [
  {
   "attachments": {},
   "cell_type": "markdown",
   "metadata": {},
   "source": [
    "# The Representation of an Algorithm Impacts its Maliciousness"
   ]
  },
  {
   "cell_type": "code",
   "execution_count": 12,
   "metadata": {},
   "outputs": [],
   "source": [
    "import os\n",
    "from pathlib import Path\n",
    "from pprint import pprint\n",
    "import subprocess\n",
    "\n",
    "import torch\n",
    "from torch import tensor\n",
    "\n",
    "os.chdir(\"/home/lk3591/Documents/code/MalConv2\")\n",
    "\n",
    "from classifier import confidence_scores, get_model\n",
    "from executable_helper import read_binary, _text_section_bounds_pefile"
   ]
  },
  {
   "attachments": {},
   "cell_type": "markdown",
   "metadata": {},
   "source": [
    "## Create and Test Diverse Executables"
   ]
  },
  {
   "cell_type": "code",
   "execution_count": null,
   "metadata": {},
   "outputs": [],
   "source": [
    "WINDOWS = False"
   ]
  },
  {
   "cell_type": "code",
   "execution_count": null,
   "metadata": {},
   "outputs": [],
   "source": [
    "compiler = \"g++\" if WINDOWS else \"i686-w64-mingw32-g++\"\n",
    "source_code_files = [\n",
    "\tPath(\"one.cpp\"),\n",
    "\tPath(\"two.cpp\"),\n",
    "\tPath(\"three.cpp\"),\n",
    "]\n",
    "compiler_flags = [\n",
    "\t[],\n",
    "\t[],\n",
    "]\n",
    "executables = []\n",
    "for f in enumerate(source_code_files):\n",
    "\tfor i, c in enumerate(compiler_flags):\n",
    "\t\tout = f\"{f}_{i}.exe\"\n",
    "\t\texecutables.append(out)\n",
    "\t\targs = [compiler] + c + [f, \"-o\", out]\n",
    "\t\tsubprocess.run(args)"
   ]
  },
  {
   "cell_type": "markdown",
   "metadata": {},
   "source": [
    "## Initial Confidence Scores"
   ]
  },
  {
   "cell_type": "code",
   "execution_count": 11,
   "metadata": {},
   "outputs": [],
   "source": [
    "def get_confidence_scores_from_files(files):\n",
    "\tconfidences = []\n",
    "\tfor f in files:\n",
    "\t\tbinary = read_binary(f)\n",
    "\t\tx = tensor(binary, dtype=torch.int64)\n",
    "\t\tc = confidence_scores(model, x)\n",
    "\t\tconfidences.append(c[0])\n",
    "\treturn confidences"
   ]
  },
  {
   "cell_type": "code",
   "execution_count": null,
   "metadata": {},
   "outputs": [],
   "source": [
    "model = get_model(\"gct\")\n",
    "confidences = get_confidence_scores_from_files(executables)\n",
    "initial_confidences = {f : c for f, c in zip(executables, confidences)}\n",
    "pprint(initial_confidences)"
   ]
  },
  {
   "attachments": {},
   "cell_type": "markdown",
   "metadata": {},
   "source": [
    "## Swap .text sections"
   ]
  },
  {
   "cell_type": "code",
   "execution_count": null,
   "metadata": {},
   "outputs": [],
   "source": []
  }
 ],
 "metadata": {
  "kernelspec": {
   "display_name": "MalConv2",
   "language": "python",
   "name": "python3"
  },
  "language_info": {
   "codemirror_mode": {
    "name": "ipython",
    "version": 3
   },
   "file_extension": ".py",
   "mimetype": "text/x-python",
   "name": "python",
   "nbconvert_exporter": "python",
   "pygments_lexer": "ipython3",
   "version": "3.8.13"
  },
  "orig_nbformat": 4
 },
 "nbformat": 4,
 "nbformat_minor": 2
}
