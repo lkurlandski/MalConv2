{
 "cells": [
  {
   "cell_type": "code",
   "execution_count": 74,
   "metadata": {
    "collapsed": true
   },
   "outputs": [
    {
     "data": {
      "text/plain": "<module 'explainability' from '/home/lk3591/Documents/MalConv2/explainability.py'>"
     },
     "execution_count": 74,
     "metadata": {},
     "output_type": "execute_result"
    }
   ],
   "source": [
    "import importlib\n",
    "import multiprocessing\n",
    "from pathlib import Path\n",
    "import tempfile\n",
    "\n",
    "import captum.attr as attr\n",
    "from captum.attr import LayerIntegratedGradients, TokenReferenceBase, visualization\n",
    "import numpy as np\n",
    "from tqdm import tqdm\n",
    "import torch\n",
    "import torch.nn.functional as F\n",
    "from torch.utils.data import DataLoader\n",
    "\n",
    "from binaryLoader import BinaryDataset, RandomChunkSampler, pad_collate_func\n",
    "from MalConvGCT_nocat import MalConvGCT\n",
    "\n",
    "import explainability as e\n",
    "\n",
    "importlib.reload(e)"
   ]
  },
  {
   "cell_type": "code",
   "execution_count": 75,
   "outputs": [],
   "source": [
    "device = torch.device('cuda:0' if torch.cuda.is_available() else \"cpu\")\n",
    "device = torch.device(\"cpu\")"
   ],
   "metadata": {
    "collapsed": false
   }
  },
  {
   "cell_type": "code",
   "execution_count": 76,
   "outputs": [],
   "source": [
    "model = e.load_classifier(device)\n",
    "dataset = e.get_dataset()\n",
    "loader = e.get_loader(dataset, BATCH_SIZE=1)"
   ],
   "metadata": {
    "collapsed": false
   }
  },
  {
   "cell_type": "code",
   "execution_count": 77,
   "outputs": [],
   "source": [
    "model.zero_grad()\n",
    "torch.backends.cudnn.enabled = False # See 1"
   ],
   "metadata": {
    "collapsed": false,
    "pycharm": {
     "name": "#%%\n"
    }
   }
  },
  {
   "cell_type": "code",
   "execution_count": 105,
   "outputs": [],
   "source": [
    "correct, incorrect = 0, 0\n",
    "with torch.no_grad():\n",
    "    for i, (X, y) in enumerate(loader):\n",
    "        #print(X.shape, y.shape)\n",
    "        if i == 1000:\n",
    "            break\n",
    "        outputs, penultimate_activ, conv_active = model(X)\n",
    "        _, predicted = torch.max(outputs.data, 1)\n",
    "        if predicted.item() == y.item():\n",
    "            correct += 1\n",
    "        else:\n",
    "            incorrect += 1"
   ],
   "metadata": {
    "collapsed": false,
    "pycharm": {
     "name": "#%%\n"
    }
   }
  },
  {
   "cell_type": "code",
   "execution_count": 107,
   "outputs": [
    {
     "name": "stdout",
     "output_type": "stream",
     "text": [
      "i: 1000, correct %: 0.141, incorrect %: 0.859\n"
     ]
    }
   ],
   "source": [
    "print(f\"i: {i}, correct %: {correct / i}, incorrect %: {incorrect / i}\")"
   ],
   "metadata": {
    "collapsed": false,
    "pycharm": {
     "name": "#%%\n"
    }
   }
  },
  {
   "cell_type": "code",
   "execution_count": 79,
   "outputs": [],
   "source": [
    "token_reference = TokenReferenceBase(reference_token_idx=256)\n",
    "lig = LayerIntegratedGradients(lambda x: model(x)[0], model.embd)"
   ],
   "metadata": {
    "collapsed": false
   }
  },
  {
   "cell_type": "code",
   "execution_count": 80,
   "outputs": [],
   "source": [
    "def get_an_input(index):\n",
    "    for i, item in enumerate(loader):\n",
    "        if i == index:\n",
    "            X, y = item\n",
    "            return X.to(device), y.to(device)"
   ],
   "metadata": {
    "collapsed": false
   }
  },
  {
   "cell_type": "code",
   "execution_count": 81,
   "outputs": [],
   "source": [
    "#vis_data_record = e.interpret(model, item, lig, reference_indices)\n",
    "#vis_data_record = visualization.VisualizationDataRecord(*vis_data_record)"
   ],
   "metadata": {
    "collapsed": false
   }
  },
  {
   "cell_type": "code",
   "execution_count": 82,
   "outputs": [
    {
     "data": {
      "text/plain": "<captum.attr._core.integrated_gradients.IntegratedGradients at 0x7f898017c3d0>"
     },
     "execution_count": 82,
     "metadata": {},
     "output_type": "execute_result"
    }
   ],
   "source": [
    "def forward_func(x):\n",
    "    return model(x)[0]\n",
    "ig = attr.IntegratedGradients(forward_func)\n",
    "ig"
   ],
   "metadata": {
    "collapsed": false
   }
  },
  {
   "cell_type": "code",
   "execution_count": 83,
   "outputs": [
    {
     "data": {
      "text/plain": "(torch.Size([1, 50767]),\n tensor([[ 61,  34,  69,  ..., 113, 117,  63]], dtype=torch.int16),\n tensor([1]))"
     },
     "execution_count": 83,
     "metadata": {},
     "output_type": "execute_result"
    }
   ],
   "source": [
    "X, y = get_an_input(5)\n",
    "X.shape, X, y"
   ],
   "metadata": {
    "collapsed": false,
    "pycharm": {
     "name": "#%%\n"
    }
   }
  },
  {
   "cell_type": "code",
   "execution_count": 84,
   "outputs": [
    {
     "data": {
      "text/plain": "(tensor([0]), torch.Size([1, 2]), torch.Size([1, 256]), torch.Size([1, 256]))"
     },
     "execution_count": 84,
     "metadata": {},
     "output_type": "execute_result"
    }
   ],
   "source": [
    "outputs, penultimate_activ, conv_active = model(X)\n",
    "torch.max(outputs.data, 1)[1], outputs.shape, penultimate_activ.shape, conv_active.shape"
   ],
   "metadata": {
    "collapsed": false,
    "pycharm": {
     "name": "#%%\n"
    }
   }
  },
  {
   "cell_type": "code",
   "execution_count": 85,
   "outputs": [
    {
     "data": {
      "text/plain": "(torch.Size([1, 50767]), tensor([[256, 256, 256,  ..., 256, 256, 256]]))"
     },
     "execution_count": 85,
     "metadata": {},
     "output_type": "execute_result"
    }
   ],
   "source": [
    "baseline = token_reference.generate_reference(X.shape[1], device=device).unsqueeze(0)\n",
    "baseline.shape, baseline"
   ],
   "metadata": {
    "collapsed": false,
    "pycharm": {
     "name": "#%%\n"
    }
   }
  },
  {
   "cell_type": "code",
   "execution_count": 97,
   "outputs": [
    {
     "data": {
      "text/plain": "(tensor([[-0., -0., -0.,  ..., -0., -0., -0.]]), tensor([3.9075]))"
     },
     "execution_count": 97,
     "metadata": {},
     "output_type": "execute_result"
    }
   ],
   "source": [
    "attr_ig, delta = ig.attribute(X, target=y, baselines=baseline, return_convergence_delta=True)\n",
    "attr_ig, delta"
   ],
   "metadata": {
    "collapsed": false,
    "pycharm": {
     "name": "#%%\n"
    }
   }
  },
  {
   "cell_type": "code",
   "execution_count": 95,
   "outputs": [],
   "source": [],
   "metadata": {
    "collapsed": false,
    "pycharm": {
     "name": "#%%\n"
    }
   }
  },
  {
   "cell_type": "code",
   "execution_count": null,
   "outputs": [],
   "source": [],
   "metadata": {
    "collapsed": false,
    "pycharm": {
     "name": "#%%\n"
    }
   }
  }
 ],
 "metadata": {
  "kernelspec": {
   "display_name": "Python 3",
   "language": "python",
   "name": "python3"
  },
  "language_info": {
   "codemirror_mode": {
    "name": "ipython",
    "version": 2
   },
   "file_extension": ".py",
   "mimetype": "text/x-python",
   "name": "python",
   "nbconvert_exporter": "python",
   "pygments_lexer": "ipython2",
   "version": "2.7.6"
  }
 },
 "nbformat": 4,
 "nbformat_minor": 0
}
